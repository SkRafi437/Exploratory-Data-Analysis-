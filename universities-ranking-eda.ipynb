{
 "cells": [
  {
   "cell_type": "raw",
   "id": "189347a4",
   "metadata": {
    "papermill": {
     "duration": 0.007345,
     "end_time": "2023-10-05T09:18:29.282572",
     "exception": false,
     "start_time": "2023-10-05T09:18:29.275227",
     "status": "completed"
    },
    "tags": []
   },
   "source": [
    "**Hi there,in this EDA projects we will be perfroming world university ranking analysis  on kaggle platform and we will be using multiple libraries in this project which will help us in analysing and visualizing our dataset. Visualizing is important as it helps people/developers see, interact with, and better understand of the data.**"
   ]
  },
  {
   "cell_type": "markdown",
   "id": "342417a2",
   "metadata": {
    "papermill": {
     "duration": 0.008818,
     "end_time": "2023-10-05T09:18:29.299315",
     "exception": false,
     "start_time": "2023-10-05T09:18:29.290497",
     "status": "completed"
    },
    "tags": []
   },
   "source": [
    "**Importing necessary libraries**"
   ]
  },
  {
   "cell_type": "code",
   "execution_count": 1,
   "id": "f2d43a0f",
   "metadata": {
    "_cell_guid": "b1076dfc-b9ad-4769-8c92-a6c4dae69d19",
    "_uuid": "8f2839f25d086af736a60e9eeb907d3b93b6e0e5",
    "execution": {
     "iopub.execute_input": "2023-10-05T09:18:29.318492Z",
     "iopub.status.busy": "2023-10-05T09:18:29.317456Z",
     "iopub.status.idle": "2023-10-05T09:18:29.761793Z",
     "shell.execute_reply": "2023-10-05T09:18:29.760671Z"
    },
    "papermill": {
     "duration": 0.457495,
     "end_time": "2023-10-05T09:18:29.765476",
     "exception": false,
     "start_time": "2023-10-05T09:18:29.307981",
     "status": "completed"
    },
    "tags": []
   },
   "outputs": [],
   "source": [
    "import numpy as np\n",
    "import pandas as pd\n",
    "import matplotlib.pyplot as plt"
   ]
  },
  {
   "cell_type": "markdown",
   "id": "7f47e1ca",
   "metadata": {
    "papermill": {
     "duration": 0.006195,
     "end_time": "2023-10-05T09:18:29.778661",
     "exception": false,
     "start_time": "2023-10-05T09:18:29.772466",
     "status": "completed"
    },
    "tags": []
   },
   "source": [
    "**we are using world university ranking csv dataset file and reading the file using read function**\n"
   ]
  },
  {
   "cell_type": "code",
   "execution_count": 2,
   "id": "59055703",
   "metadata": {
    "execution": {
     "iopub.execute_input": "2023-10-05T09:18:29.794244Z",
     "iopub.status.busy": "2023-10-05T09:18:29.793615Z",
     "iopub.status.idle": "2023-10-05T09:18:29.881868Z",
     "shell.execute_reply": "2023-10-05T09:18:29.880728Z"
    },
    "papermill": {
     "duration": 0.098907,
     "end_time": "2023-10-05T09:18:29.884264",
     "exception": false,
     "start_time": "2023-10-05T09:18:29.785357",
     "status": "completed"
    },
    "tags": []
   },
   "outputs": [
    {
     "data": {
      "text/html": [
       "<div>\n",
       "<style scoped>\n",
       "    .dataframe tbody tr th:only-of-type {\n",
       "        vertical-align: middle;\n",
       "    }\n",
       "\n",
       "    .dataframe tbody tr th {\n",
       "        vertical-align: top;\n",
       "    }\n",
       "\n",
       "    .dataframe thead th {\n",
       "        text-align: right;\n",
       "    }\n",
       "</style>\n",
       "<table border=\"1\" class=\"dataframe\">\n",
       "  <thead>\n",
       "    <tr style=\"text-align: right;\">\n",
       "      <th></th>\n",
       "      <th>world_rank</th>\n",
       "      <th>institution</th>\n",
       "      <th>country</th>\n",
       "      <th>national_rank</th>\n",
       "      <th>quality_of_education</th>\n",
       "      <th>alumni_employment</th>\n",
       "      <th>quality_of_faculty</th>\n",
       "      <th>publications</th>\n",
       "      <th>influence</th>\n",
       "      <th>citations</th>\n",
       "      <th>broad_impact</th>\n",
       "      <th>patents</th>\n",
       "      <th>score</th>\n",
       "      <th>year</th>\n",
       "    </tr>\n",
       "  </thead>\n",
       "  <tbody>\n",
       "    <tr>\n",
       "      <th>0</th>\n",
       "      <td>1</td>\n",
       "      <td>Harvard University</td>\n",
       "      <td>USA</td>\n",
       "      <td>1</td>\n",
       "      <td>7</td>\n",
       "      <td>9</td>\n",
       "      <td>1</td>\n",
       "      <td>1</td>\n",
       "      <td>1</td>\n",
       "      <td>1</td>\n",
       "      <td>NaN</td>\n",
       "      <td>5</td>\n",
       "      <td>100.00</td>\n",
       "      <td>2012</td>\n",
       "    </tr>\n",
       "    <tr>\n",
       "      <th>1</th>\n",
       "      <td>2</td>\n",
       "      <td>Massachusetts Institute of Technology</td>\n",
       "      <td>USA</td>\n",
       "      <td>2</td>\n",
       "      <td>9</td>\n",
       "      <td>17</td>\n",
       "      <td>3</td>\n",
       "      <td>12</td>\n",
       "      <td>4</td>\n",
       "      <td>4</td>\n",
       "      <td>NaN</td>\n",
       "      <td>1</td>\n",
       "      <td>91.67</td>\n",
       "      <td>2012</td>\n",
       "    </tr>\n",
       "    <tr>\n",
       "      <th>2</th>\n",
       "      <td>3</td>\n",
       "      <td>Stanford University</td>\n",
       "      <td>USA</td>\n",
       "      <td>3</td>\n",
       "      <td>17</td>\n",
       "      <td>11</td>\n",
       "      <td>5</td>\n",
       "      <td>4</td>\n",
       "      <td>2</td>\n",
       "      <td>2</td>\n",
       "      <td>NaN</td>\n",
       "      <td>15</td>\n",
       "      <td>89.50</td>\n",
       "      <td>2012</td>\n",
       "    </tr>\n",
       "    <tr>\n",
       "      <th>3</th>\n",
       "      <td>4</td>\n",
       "      <td>University of Cambridge</td>\n",
       "      <td>United Kingdom</td>\n",
       "      <td>1</td>\n",
       "      <td>10</td>\n",
       "      <td>24</td>\n",
       "      <td>4</td>\n",
       "      <td>16</td>\n",
       "      <td>16</td>\n",
       "      <td>11</td>\n",
       "      <td>NaN</td>\n",
       "      <td>50</td>\n",
       "      <td>86.17</td>\n",
       "      <td>2012</td>\n",
       "    </tr>\n",
       "    <tr>\n",
       "      <th>4</th>\n",
       "      <td>5</td>\n",
       "      <td>California Institute of Technology</td>\n",
       "      <td>USA</td>\n",
       "      <td>4</td>\n",
       "      <td>2</td>\n",
       "      <td>29</td>\n",
       "      <td>7</td>\n",
       "      <td>37</td>\n",
       "      <td>22</td>\n",
       "      <td>22</td>\n",
       "      <td>NaN</td>\n",
       "      <td>18</td>\n",
       "      <td>85.21</td>\n",
       "      <td>2012</td>\n",
       "    </tr>\n",
       "    <tr>\n",
       "      <th>...</th>\n",
       "      <td>...</td>\n",
       "      <td>...</td>\n",
       "      <td>...</td>\n",
       "      <td>...</td>\n",
       "      <td>...</td>\n",
       "      <td>...</td>\n",
       "      <td>...</td>\n",
       "      <td>...</td>\n",
       "      <td>...</td>\n",
       "      <td>...</td>\n",
       "      <td>...</td>\n",
       "      <td>...</td>\n",
       "      <td>...</td>\n",
       "      <td>...</td>\n",
       "    </tr>\n",
       "    <tr>\n",
       "      <th>2195</th>\n",
       "      <td>996</td>\n",
       "      <td>University of the Algarve</td>\n",
       "      <td>Portugal</td>\n",
       "      <td>7</td>\n",
       "      <td>367</td>\n",
       "      <td>567</td>\n",
       "      <td>218</td>\n",
       "      <td>926</td>\n",
       "      <td>845</td>\n",
       "      <td>812</td>\n",
       "      <td>969.0</td>\n",
       "      <td>816</td>\n",
       "      <td>44.03</td>\n",
       "      <td>2015</td>\n",
       "    </tr>\n",
       "    <tr>\n",
       "      <th>2196</th>\n",
       "      <td>997</td>\n",
       "      <td>Alexandria University</td>\n",
       "      <td>Egypt</td>\n",
       "      <td>4</td>\n",
       "      <td>236</td>\n",
       "      <td>566</td>\n",
       "      <td>218</td>\n",
       "      <td>997</td>\n",
       "      <td>908</td>\n",
       "      <td>645</td>\n",
       "      <td>981.0</td>\n",
       "      <td>871</td>\n",
       "      <td>44.03</td>\n",
       "      <td>2015</td>\n",
       "    </tr>\n",
       "    <tr>\n",
       "      <th>2197</th>\n",
       "      <td>998</td>\n",
       "      <td>Federal University of Ceará</td>\n",
       "      <td>Brazil</td>\n",
       "      <td>18</td>\n",
       "      <td>367</td>\n",
       "      <td>549</td>\n",
       "      <td>218</td>\n",
       "      <td>830</td>\n",
       "      <td>823</td>\n",
       "      <td>812</td>\n",
       "      <td>975.0</td>\n",
       "      <td>824</td>\n",
       "      <td>44.03</td>\n",
       "      <td>2015</td>\n",
       "    </tr>\n",
       "    <tr>\n",
       "      <th>2198</th>\n",
       "      <td>999</td>\n",
       "      <td>University of A Coruña</td>\n",
       "      <td>Spain</td>\n",
       "      <td>40</td>\n",
       "      <td>367</td>\n",
       "      <td>567</td>\n",
       "      <td>218</td>\n",
       "      <td>886</td>\n",
       "      <td>974</td>\n",
       "      <td>812</td>\n",
       "      <td>975.0</td>\n",
       "      <td>651</td>\n",
       "      <td>44.02</td>\n",
       "      <td>2015</td>\n",
       "    </tr>\n",
       "    <tr>\n",
       "      <th>2199</th>\n",
       "      <td>1000</td>\n",
       "      <td>China Pharmaceutical University</td>\n",
       "      <td>China</td>\n",
       "      <td>83</td>\n",
       "      <td>367</td>\n",
       "      <td>567</td>\n",
       "      <td>218</td>\n",
       "      <td>861</td>\n",
       "      <td>991</td>\n",
       "      <td>812</td>\n",
       "      <td>981.0</td>\n",
       "      <td>547</td>\n",
       "      <td>44.02</td>\n",
       "      <td>2015</td>\n",
       "    </tr>\n",
       "  </tbody>\n",
       "</table>\n",
       "<p>2200 rows × 14 columns</p>\n",
       "</div>"
      ],
      "text/plain": [
       "      world_rank                            institution         country  \\\n",
       "0              1                     Harvard University             USA   \n",
       "1              2  Massachusetts Institute of Technology             USA   \n",
       "2              3                    Stanford University             USA   \n",
       "3              4                University of Cambridge  United Kingdom   \n",
       "4              5     California Institute of Technology             USA   \n",
       "...          ...                                    ...             ...   \n",
       "2195         996              University of the Algarve        Portugal   \n",
       "2196         997                  Alexandria University           Egypt   \n",
       "2197         998            Federal University of Ceará          Brazil   \n",
       "2198         999                 University of A Coruña           Spain   \n",
       "2199        1000        China Pharmaceutical University           China   \n",
       "\n",
       "      national_rank  quality_of_education  alumni_employment  \\\n",
       "0                 1                     7                  9   \n",
       "1                 2                     9                 17   \n",
       "2                 3                    17                 11   \n",
       "3                 1                    10                 24   \n",
       "4                 4                     2                 29   \n",
       "...             ...                   ...                ...   \n",
       "2195              7                   367                567   \n",
       "2196              4                   236                566   \n",
       "2197             18                   367                549   \n",
       "2198             40                   367                567   \n",
       "2199             83                   367                567   \n",
       "\n",
       "      quality_of_faculty  publications  influence  citations  broad_impact  \\\n",
       "0                      1             1          1          1           NaN   \n",
       "1                      3            12          4          4           NaN   \n",
       "2                      5             4          2          2           NaN   \n",
       "3                      4            16         16         11           NaN   \n",
       "4                      7            37         22         22           NaN   \n",
       "...                  ...           ...        ...        ...           ...   \n",
       "2195                 218           926        845        812         969.0   \n",
       "2196                 218           997        908        645         981.0   \n",
       "2197                 218           830        823        812         975.0   \n",
       "2198                 218           886        974        812         975.0   \n",
       "2199                 218           861        991        812         981.0   \n",
       "\n",
       "      patents   score  year  \n",
       "0           5  100.00  2012  \n",
       "1           1   91.67  2012  \n",
       "2          15   89.50  2012  \n",
       "3          50   86.17  2012  \n",
       "4          18   85.21  2012  \n",
       "...       ...     ...   ...  \n",
       "2195      816   44.03  2015  \n",
       "2196      871   44.03  2015  \n",
       "2197      824   44.03  2015  \n",
       "2198      651   44.02  2015  \n",
       "2199      547   44.02  2015  \n",
       "\n",
       "[2200 rows x 14 columns]"
      ]
     },
     "execution_count": 2,
     "metadata": {},
     "output_type": "execute_result"
    }
   ],
   "source": [
    "data=pd.read_csv('/kaggle/input/world-university-rankings/cwurData.csv')\n",
    "data   # reading the dataset "
   ]
  },
  {
   "cell_type": "markdown",
   "id": "127fd44f",
   "metadata": {
    "papermill": {
     "duration": 0.006637,
     "end_time": "2023-10-05T09:18:29.897926",
     "exception": false,
     "start_time": "2023-10-05T09:18:29.891289",
     "status": "completed"
    },
    "tags": []
   },
   "source": [
    "**info() function use to give the information of dataset like - datatype, null values..**"
   ]
  },
  {
   "cell_type": "code",
   "execution_count": 3,
   "id": "a09ef576",
   "metadata": {
    "execution": {
     "iopub.execute_input": "2023-10-05T09:18:29.914218Z",
     "iopub.status.busy": "2023-10-05T09:18:29.913783Z",
     "iopub.status.idle": "2023-10-05T09:18:29.944300Z",
     "shell.execute_reply": "2023-10-05T09:18:29.943074Z"
    },
    "papermill": {
     "duration": 0.041596,
     "end_time": "2023-10-05T09:18:29.946488",
     "exception": false,
     "start_time": "2023-10-05T09:18:29.904892",
     "status": "completed"
    },
    "tags": []
   },
   "outputs": [
    {
     "name": "stdout",
     "output_type": "stream",
     "text": [
      "<class 'pandas.core.frame.DataFrame'>\n",
      "RangeIndex: 2200 entries, 0 to 2199\n",
      "Data columns (total 14 columns):\n",
      " #   Column                Non-Null Count  Dtype  \n",
      "---  ------                --------------  -----  \n",
      " 0   world_rank            2200 non-null   int64  \n",
      " 1   institution           2200 non-null   object \n",
      " 2   country               2200 non-null   object \n",
      " 3   national_rank         2200 non-null   int64  \n",
      " 4   quality_of_education  2200 non-null   int64  \n",
      " 5   alumni_employment     2200 non-null   int64  \n",
      " 6   quality_of_faculty    2200 non-null   int64  \n",
      " 7   publications          2200 non-null   int64  \n",
      " 8   influence             2200 non-null   int64  \n",
      " 9   citations             2200 non-null   int64  \n",
      " 10  broad_impact          2000 non-null   float64\n",
      " 11  patents               2200 non-null   int64  \n",
      " 12  score                 2200 non-null   float64\n",
      " 13  year                  2200 non-null   int64  \n",
      "dtypes: float64(2), int64(10), object(2)\n",
      "memory usage: 240.8+ KB\n"
     ]
    }
   ],
   "source": [
    "data.info()  # detailed information of data"
   ]
  },
  {
   "cell_type": "markdown",
   "id": "0d2a475c",
   "metadata": {
    "papermill": {
     "duration": 0.006715,
     "end_time": "2023-10-05T09:18:29.961335",
     "exception": false,
     "start_time": "2023-10-05T09:18:29.954620",
     "status": "completed"
    },
    "tags": []
   },
   "source": [
    "**it's a best practise to sort the index**\n"
   ]
  },
  {
   "cell_type": "code",
   "execution_count": 4,
   "id": "fd13f3e1",
   "metadata": {
    "execution": {
     "iopub.execute_input": "2023-10-05T09:18:29.977380Z",
     "iopub.status.busy": "2023-10-05T09:18:29.976967Z",
     "iopub.status.idle": "2023-10-05T09:18:29.982489Z",
     "shell.execute_reply": "2023-10-05T09:18:29.981313Z"
    },
    "papermill": {
     "duration": 0.016159,
     "end_time": "2023-10-05T09:18:29.984526",
     "exception": false,
     "start_time": "2023-10-05T09:18:29.968367",
     "status": "completed"
    },
    "tags": []
   },
   "outputs": [],
   "source": [
    "data.sort_index(inplace= True)  #index will be sorted"
   ]
  },
  {
   "cell_type": "markdown",
   "id": "a67bd42d",
   "metadata": {
    "papermill": {
     "duration": 0.007357,
     "end_time": "2023-10-05T09:18:29.999253",
     "exception": false,
     "start_time": "2023-10-05T09:18:29.991896",
     "status": "completed"
    },
    "tags": []
   },
   "source": [
    "**shape of the data - (no of colums , no of rows)**\n"
   ]
  },
  {
   "cell_type": "code",
   "execution_count": 5,
   "id": "27bb0347",
   "metadata": {
    "execution": {
     "iopub.execute_input": "2023-10-05T09:18:30.018925Z",
     "iopub.status.busy": "2023-10-05T09:18:30.018431Z",
     "iopub.status.idle": "2023-10-05T09:18:30.025507Z",
     "shell.execute_reply": "2023-10-05T09:18:30.024307Z"
    },
    "papermill": {
     "duration": 0.018362,
     "end_time": "2023-10-05T09:18:30.027725",
     "exception": false,
     "start_time": "2023-10-05T09:18:30.009363",
     "status": "completed"
    },
    "tags": []
   },
   "outputs": [
    {
     "data": {
      "text/plain": [
       "(2200, 14)"
      ]
     },
     "execution_count": 5,
     "metadata": {},
     "output_type": "execute_result"
    }
   ],
   "source": [
    "data.shape # it has 2200 rows and 14 columns"
   ]
  },
  {
   "cell_type": "markdown",
   "id": "63e18498",
   "metadata": {
    "papermill": {
     "duration": 0.00776,
     "end_time": "2023-10-05T09:18:30.042735",
     "exception": false,
     "start_time": "2023-10-05T09:18:30.034975",
     "status": "completed"
    },
    "tags": []
   },
   "source": [
    "**describe function the data**"
   ]
  },
  {
   "cell_type": "code",
   "execution_count": 6,
   "id": "c0391eda",
   "metadata": {
    "execution": {
     "iopub.execute_input": "2023-10-05T09:18:30.059568Z",
     "iopub.status.busy": "2023-10-05T09:18:30.059018Z",
     "iopub.status.idle": "2023-10-05T09:18:30.102683Z",
     "shell.execute_reply": "2023-10-05T09:18:30.101944Z"
    },
    "papermill": {
     "duration": 0.054469,
     "end_time": "2023-10-05T09:18:30.104583",
     "exception": false,
     "start_time": "2023-10-05T09:18:30.050114",
     "status": "completed"
    },
    "tags": []
   },
   "outputs": [
    {
     "data": {
      "text/html": [
       "<div>\n",
       "<style scoped>\n",
       "    .dataframe tbody tr th:only-of-type {\n",
       "        vertical-align: middle;\n",
       "    }\n",
       "\n",
       "    .dataframe tbody tr th {\n",
       "        vertical-align: top;\n",
       "    }\n",
       "\n",
       "    .dataframe thead th {\n",
       "        text-align: right;\n",
       "    }\n",
       "</style>\n",
       "<table border=\"1\" class=\"dataframe\">\n",
       "  <thead>\n",
       "    <tr style=\"text-align: right;\">\n",
       "      <th></th>\n",
       "      <th>world_rank</th>\n",
       "      <th>national_rank</th>\n",
       "      <th>quality_of_education</th>\n",
       "      <th>alumni_employment</th>\n",
       "      <th>quality_of_faculty</th>\n",
       "      <th>publications</th>\n",
       "      <th>influence</th>\n",
       "      <th>citations</th>\n",
       "      <th>broad_impact</th>\n",
       "      <th>patents</th>\n",
       "      <th>score</th>\n",
       "      <th>year</th>\n",
       "    </tr>\n",
       "  </thead>\n",
       "  <tbody>\n",
       "    <tr>\n",
       "      <th>count</th>\n",
       "      <td>2200.000000</td>\n",
       "      <td>2200.000000</td>\n",
       "      <td>2200.000000</td>\n",
       "      <td>2200.000000</td>\n",
       "      <td>2200.000000</td>\n",
       "      <td>2200.000000</td>\n",
       "      <td>2200.000000</td>\n",
       "      <td>2200.000000</td>\n",
       "      <td>2000.000000</td>\n",
       "      <td>2200.000000</td>\n",
       "      <td>2200.000000</td>\n",
       "      <td>2200.000000</td>\n",
       "    </tr>\n",
       "    <tr>\n",
       "      <th>mean</th>\n",
       "      <td>459.590909</td>\n",
       "      <td>40.278182</td>\n",
       "      <td>275.100455</td>\n",
       "      <td>357.116818</td>\n",
       "      <td>178.888182</td>\n",
       "      <td>459.908636</td>\n",
       "      <td>459.797727</td>\n",
       "      <td>413.417273</td>\n",
       "      <td>496.699500</td>\n",
       "      <td>433.346364</td>\n",
       "      <td>47.798395</td>\n",
       "      <td>2014.318182</td>\n",
       "    </tr>\n",
       "    <tr>\n",
       "      <th>std</th>\n",
       "      <td>304.320363</td>\n",
       "      <td>51.740870</td>\n",
       "      <td>121.935100</td>\n",
       "      <td>186.779252</td>\n",
       "      <td>64.050885</td>\n",
       "      <td>303.760352</td>\n",
       "      <td>303.331822</td>\n",
       "      <td>264.366549</td>\n",
       "      <td>286.919755</td>\n",
       "      <td>273.996525</td>\n",
       "      <td>7.760806</td>\n",
       "      <td>0.762130</td>\n",
       "    </tr>\n",
       "    <tr>\n",
       "      <th>min</th>\n",
       "      <td>1.000000</td>\n",
       "      <td>1.000000</td>\n",
       "      <td>1.000000</td>\n",
       "      <td>1.000000</td>\n",
       "      <td>1.000000</td>\n",
       "      <td>1.000000</td>\n",
       "      <td>1.000000</td>\n",
       "      <td>1.000000</td>\n",
       "      <td>1.000000</td>\n",
       "      <td>1.000000</td>\n",
       "      <td>43.360000</td>\n",
       "      <td>2012.000000</td>\n",
       "    </tr>\n",
       "    <tr>\n",
       "      <th>25%</th>\n",
       "      <td>175.750000</td>\n",
       "      <td>6.000000</td>\n",
       "      <td>175.750000</td>\n",
       "      <td>175.750000</td>\n",
       "      <td>175.750000</td>\n",
       "      <td>175.750000</td>\n",
       "      <td>175.750000</td>\n",
       "      <td>161.000000</td>\n",
       "      <td>250.500000</td>\n",
       "      <td>170.750000</td>\n",
       "      <td>44.460000</td>\n",
       "      <td>2014.000000</td>\n",
       "    </tr>\n",
       "    <tr>\n",
       "      <th>50%</th>\n",
       "      <td>450.500000</td>\n",
       "      <td>21.000000</td>\n",
       "      <td>355.000000</td>\n",
       "      <td>450.500000</td>\n",
       "      <td>210.000000</td>\n",
       "      <td>450.500000</td>\n",
       "      <td>450.500000</td>\n",
       "      <td>406.000000</td>\n",
       "      <td>496.000000</td>\n",
       "      <td>426.000000</td>\n",
       "      <td>45.100000</td>\n",
       "      <td>2014.000000</td>\n",
       "    </tr>\n",
       "    <tr>\n",
       "      <th>75%</th>\n",
       "      <td>725.250000</td>\n",
       "      <td>49.000000</td>\n",
       "      <td>367.000000</td>\n",
       "      <td>478.000000</td>\n",
       "      <td>218.000000</td>\n",
       "      <td>725.000000</td>\n",
       "      <td>725.250000</td>\n",
       "      <td>645.000000</td>\n",
       "      <td>741.000000</td>\n",
       "      <td>714.250000</td>\n",
       "      <td>47.545000</td>\n",
       "      <td>2015.000000</td>\n",
       "    </tr>\n",
       "    <tr>\n",
       "      <th>max</th>\n",
       "      <td>1000.000000</td>\n",
       "      <td>229.000000</td>\n",
       "      <td>367.000000</td>\n",
       "      <td>567.000000</td>\n",
       "      <td>218.000000</td>\n",
       "      <td>1000.000000</td>\n",
       "      <td>991.000000</td>\n",
       "      <td>812.000000</td>\n",
       "      <td>1000.000000</td>\n",
       "      <td>871.000000</td>\n",
       "      <td>100.000000</td>\n",
       "      <td>2015.000000</td>\n",
       "    </tr>\n",
       "  </tbody>\n",
       "</table>\n",
       "</div>"
      ],
      "text/plain": [
       "        world_rank  national_rank  quality_of_education  alumni_employment  \\\n",
       "count  2200.000000    2200.000000           2200.000000        2200.000000   \n",
       "mean    459.590909      40.278182            275.100455         357.116818   \n",
       "std     304.320363      51.740870            121.935100         186.779252   \n",
       "min       1.000000       1.000000              1.000000           1.000000   \n",
       "25%     175.750000       6.000000            175.750000         175.750000   \n",
       "50%     450.500000      21.000000            355.000000         450.500000   \n",
       "75%     725.250000      49.000000            367.000000         478.000000   \n",
       "max    1000.000000     229.000000            367.000000         567.000000   \n",
       "\n",
       "       quality_of_faculty  publications    influence    citations  \\\n",
       "count         2200.000000   2200.000000  2200.000000  2200.000000   \n",
       "mean           178.888182    459.908636   459.797727   413.417273   \n",
       "std             64.050885    303.760352   303.331822   264.366549   \n",
       "min              1.000000      1.000000     1.000000     1.000000   \n",
       "25%            175.750000    175.750000   175.750000   161.000000   \n",
       "50%            210.000000    450.500000   450.500000   406.000000   \n",
       "75%            218.000000    725.000000   725.250000   645.000000   \n",
       "max            218.000000   1000.000000   991.000000   812.000000   \n",
       "\n",
       "       broad_impact      patents        score         year  \n",
       "count   2000.000000  2200.000000  2200.000000  2200.000000  \n",
       "mean     496.699500   433.346364    47.798395  2014.318182  \n",
       "std      286.919755   273.996525     7.760806     0.762130  \n",
       "min        1.000000     1.000000    43.360000  2012.000000  \n",
       "25%      250.500000   170.750000    44.460000  2014.000000  \n",
       "50%      496.000000   426.000000    45.100000  2014.000000  \n",
       "75%      741.000000   714.250000    47.545000  2015.000000  \n",
       "max     1000.000000   871.000000   100.000000  2015.000000  "
      ]
     },
     "execution_count": 6,
     "metadata": {},
     "output_type": "execute_result"
    }
   ],
   "source": [
    "data.describe()  #it shows summarize of data like - min,max,count,mean,... "
   ]
  },
  {
   "cell_type": "markdown",
   "id": "e8a36212",
   "metadata": {
    "papermill": {
     "duration": 0.00734,
     "end_time": "2023-10-05T09:18:30.119740",
     "exception": false,
     "start_time": "2023-10-05T09:18:30.112400",
     "status": "completed"
    },
    "tags": []
   },
   "source": [
    "**Now, checking sum of NUll values present in the dataset ,it is very necessary to identify the null values**\n"
   ]
  },
  {
   "cell_type": "code",
   "execution_count": 7,
   "id": "52f5ff33",
   "metadata": {
    "execution": {
     "iopub.execute_input": "2023-10-05T09:18:30.137153Z",
     "iopub.status.busy": "2023-10-05T09:18:30.136347Z",
     "iopub.status.idle": "2023-10-05T09:18:30.145720Z",
     "shell.execute_reply": "2023-10-05T09:18:30.144596Z"
    },
    "papermill": {
     "duration": 0.020514,
     "end_time": "2023-10-05T09:18:30.147921",
     "exception": false,
     "start_time": "2023-10-05T09:18:30.127407",
     "status": "completed"
    },
    "tags": []
   },
   "outputs": [
    {
     "data": {
      "text/plain": [
       "world_rank                0\n",
       "institution               0\n",
       "country                   0\n",
       "national_rank             0\n",
       "quality_of_education      0\n",
       "alumni_employment         0\n",
       "quality_of_faculty        0\n",
       "publications              0\n",
       "influence                 0\n",
       "citations                 0\n",
       "broad_impact            200\n",
       "patents                   0\n",
       "score                     0\n",
       "year                      0\n",
       "dtype: int64"
      ]
     },
     "execution_count": 7,
     "metadata": {},
     "output_type": "execute_result"
    }
   ],
   "source": [
    "data.isna().sum()   # we have 200 null values in broad_impact row"
   ]
  },
  {
   "cell_type": "markdown",
   "id": "bec425b4",
   "metadata": {
    "papermill": {
     "duration": 0.00754,
     "end_time": "2023-10-05T09:18:30.163475",
     "exception": false,
     "start_time": "2023-10-05T09:18:30.155935",
     "status": "completed"
    },
    "tags": []
   },
   "source": [
    "**Top 5 records of the dataset**"
   ]
  },
  {
   "cell_type": "code",
   "execution_count": 8,
   "id": "abcb34c6",
   "metadata": {
    "execution": {
     "iopub.execute_input": "2023-10-05T09:18:30.180862Z",
     "iopub.status.busy": "2023-10-05T09:18:30.180468Z",
     "iopub.status.idle": "2023-10-05T09:18:30.193530Z",
     "shell.execute_reply": "2023-10-05T09:18:30.192379Z"
    },
    "papermill": {
     "duration": 0.024939,
     "end_time": "2023-10-05T09:18:30.196332",
     "exception": false,
     "start_time": "2023-10-05T09:18:30.171393",
     "status": "completed"
    },
    "tags": []
   },
   "outputs": [
    {
     "data": {
      "text/html": [
       "<div>\n",
       "<style scoped>\n",
       "    .dataframe tbody tr th:only-of-type {\n",
       "        vertical-align: middle;\n",
       "    }\n",
       "\n",
       "    .dataframe tbody tr th {\n",
       "        vertical-align: top;\n",
       "    }\n",
       "\n",
       "    .dataframe thead th {\n",
       "        text-align: right;\n",
       "    }\n",
       "</style>\n",
       "<table border=\"1\" class=\"dataframe\">\n",
       "  <thead>\n",
       "    <tr style=\"text-align: right;\">\n",
       "      <th></th>\n",
       "      <th>world_rank</th>\n",
       "      <th>institution</th>\n",
       "      <th>country</th>\n",
       "      <th>national_rank</th>\n",
       "      <th>quality_of_education</th>\n",
       "      <th>alumni_employment</th>\n",
       "      <th>quality_of_faculty</th>\n",
       "      <th>publications</th>\n",
       "      <th>influence</th>\n",
       "      <th>citations</th>\n",
       "      <th>broad_impact</th>\n",
       "      <th>patents</th>\n",
       "      <th>score</th>\n",
       "      <th>year</th>\n",
       "    </tr>\n",
       "  </thead>\n",
       "  <tbody>\n",
       "    <tr>\n",
       "      <th>0</th>\n",
       "      <td>1</td>\n",
       "      <td>Harvard University</td>\n",
       "      <td>USA</td>\n",
       "      <td>1</td>\n",
       "      <td>7</td>\n",
       "      <td>9</td>\n",
       "      <td>1</td>\n",
       "      <td>1</td>\n",
       "      <td>1</td>\n",
       "      <td>1</td>\n",
       "      <td>NaN</td>\n",
       "      <td>5</td>\n",
       "      <td>100.00</td>\n",
       "      <td>2012</td>\n",
       "    </tr>\n",
       "    <tr>\n",
       "      <th>1</th>\n",
       "      <td>2</td>\n",
       "      <td>Massachusetts Institute of Technology</td>\n",
       "      <td>USA</td>\n",
       "      <td>2</td>\n",
       "      <td>9</td>\n",
       "      <td>17</td>\n",
       "      <td>3</td>\n",
       "      <td>12</td>\n",
       "      <td>4</td>\n",
       "      <td>4</td>\n",
       "      <td>NaN</td>\n",
       "      <td>1</td>\n",
       "      <td>91.67</td>\n",
       "      <td>2012</td>\n",
       "    </tr>\n",
       "    <tr>\n",
       "      <th>2</th>\n",
       "      <td>3</td>\n",
       "      <td>Stanford University</td>\n",
       "      <td>USA</td>\n",
       "      <td>3</td>\n",
       "      <td>17</td>\n",
       "      <td>11</td>\n",
       "      <td>5</td>\n",
       "      <td>4</td>\n",
       "      <td>2</td>\n",
       "      <td>2</td>\n",
       "      <td>NaN</td>\n",
       "      <td>15</td>\n",
       "      <td>89.50</td>\n",
       "      <td>2012</td>\n",
       "    </tr>\n",
       "    <tr>\n",
       "      <th>3</th>\n",
       "      <td>4</td>\n",
       "      <td>University of Cambridge</td>\n",
       "      <td>United Kingdom</td>\n",
       "      <td>1</td>\n",
       "      <td>10</td>\n",
       "      <td>24</td>\n",
       "      <td>4</td>\n",
       "      <td>16</td>\n",
       "      <td>16</td>\n",
       "      <td>11</td>\n",
       "      <td>NaN</td>\n",
       "      <td>50</td>\n",
       "      <td>86.17</td>\n",
       "      <td>2012</td>\n",
       "    </tr>\n",
       "    <tr>\n",
       "      <th>4</th>\n",
       "      <td>5</td>\n",
       "      <td>California Institute of Technology</td>\n",
       "      <td>USA</td>\n",
       "      <td>4</td>\n",
       "      <td>2</td>\n",
       "      <td>29</td>\n",
       "      <td>7</td>\n",
       "      <td>37</td>\n",
       "      <td>22</td>\n",
       "      <td>22</td>\n",
       "      <td>NaN</td>\n",
       "      <td>18</td>\n",
       "      <td>85.21</td>\n",
       "      <td>2012</td>\n",
       "    </tr>\n",
       "  </tbody>\n",
       "</table>\n",
       "</div>"
      ],
      "text/plain": [
       "   world_rank                            institution         country  \\\n",
       "0           1                     Harvard University             USA   \n",
       "1           2  Massachusetts Institute of Technology             USA   \n",
       "2           3                    Stanford University             USA   \n",
       "3           4                University of Cambridge  United Kingdom   \n",
       "4           5     California Institute of Technology             USA   \n",
       "\n",
       "   national_rank  quality_of_education  alumni_employment  quality_of_faculty  \\\n",
       "0              1                     7                  9                   1   \n",
       "1              2                     9                 17                   3   \n",
       "2              3                    17                 11                   5   \n",
       "3              1                    10                 24                   4   \n",
       "4              4                     2                 29                   7   \n",
       "\n",
       "   publications  influence  citations  broad_impact  patents   score  year  \n",
       "0             1          1          1           NaN        5  100.00  2012  \n",
       "1            12          4          4           NaN        1   91.67  2012  \n",
       "2             4          2          2           NaN       15   89.50  2012  \n",
       "3            16         16         11           NaN       50   86.17  2012  \n",
       "4            37         22         22           NaN       18   85.21  2012  "
      ]
     },
     "execution_count": 8,
     "metadata": {},
     "output_type": "execute_result"
    }
   ],
   "source": [
    "data.head()   # head() function returns top 5 records "
   ]
  },
  {
   "cell_type": "markdown",
   "id": "23b6e71f",
   "metadata": {
    "papermill": {
     "duration": 0.008278,
     "end_time": "2023-10-05T09:18:30.213358",
     "exception": false,
     "start_time": "2023-10-05T09:18:30.205080",
     "status": "completed"
    },
    "tags": []
   },
   "source": [
    "**counting the number of values in the broad_impact**\n"
   ]
  },
  {
   "cell_type": "code",
   "execution_count": 9,
   "id": "267556e3",
   "metadata": {
    "execution": {
     "iopub.execute_input": "2023-10-05T09:18:30.230939Z",
     "iopub.status.busy": "2023-10-05T09:18:30.230566Z",
     "iopub.status.idle": "2023-10-05T09:18:30.236863Z",
     "shell.execute_reply": "2023-10-05T09:18:30.235867Z"
    },
    "papermill": {
     "duration": 0.017912,
     "end_time": "2023-10-05T09:18:30.239325",
     "exception": false,
     "start_time": "2023-10-05T09:18:30.221413",
     "status": "completed"
    },
    "tags": []
   },
   "outputs": [
    {
     "data": {
      "text/plain": [
       "2000"
      ]
     },
     "execution_count": 9,
     "metadata": {},
     "output_type": "execute_result"
    }
   ],
   "source": [
    "data.broad_impact.count()  # it has total 2000 values"
   ]
  },
  {
   "cell_type": "markdown",
   "id": "66bb0bb2",
   "metadata": {
    "papermill": {
     "duration": 0.007652,
     "end_time": "2023-10-05T09:18:30.255267",
     "exception": false,
     "start_time": "2023-10-05T09:18:30.247615",
     "status": "completed"
    },
    "tags": []
   },
   "source": [
    "**Finding number of uniques values in broad_impact**\n"
   ]
  },
  {
   "cell_type": "code",
   "execution_count": 10,
   "id": "cbdafb8e",
   "metadata": {
    "execution": {
     "iopub.execute_input": "2023-10-05T09:18:30.273260Z",
     "iopub.status.busy": "2023-10-05T09:18:30.272299Z",
     "iopub.status.idle": "2023-10-05T09:18:30.279973Z",
     "shell.execute_reply": "2023-10-05T09:18:30.278881Z"
    },
    "papermill": {
     "duration": 0.018939,
     "end_time": "2023-10-05T09:18:30.282064",
     "exception": false,
     "start_time": "2023-10-05T09:18:30.263125",
     "status": "completed"
    },
    "tags": []
   },
   "outputs": [
    {
     "data": {
      "text/plain": [
       "343"
      ]
     },
     "execution_count": 10,
     "metadata": {},
     "output_type": "execute_result"
    }
   ],
   "source": [
    "data.broad_impact.nunique()  #it has 343 unique values"
   ]
  },
  {
   "cell_type": "code",
   "execution_count": 11,
   "id": "a6e13475",
   "metadata": {
    "execution": {
     "iopub.execute_input": "2023-10-05T09:18:30.299848Z",
     "iopub.status.busy": "2023-10-05T09:18:30.299466Z",
     "iopub.status.idle": "2023-10-05T09:18:30.310148Z",
     "shell.execute_reply": "2023-10-05T09:18:30.308752Z"
    },
    "papermill": {
     "duration": 0.022221,
     "end_time": "2023-10-05T09:18:30.312314",
     "exception": false,
     "start_time": "2023-10-05T09:18:30.290093",
     "status": "completed"
    },
    "tags": []
   },
   "outputs": [
    {
     "data": {
      "text/plain": [
       "array([  nan,    1.,    4.,    2.,   13.,   12.,    7.,   18.,   41.,\n",
       "         19.,   23.,   24.,   26.,   10.,    6.,   51.,   31.,   86.,\n",
       "          3.,   16.,  151.,   27.,  107.,   28.,   15.,    9.,   68.,\n",
       "         74.,   21.,    8.,    5.,  266.,  311.,  295.,   62.,  137.,\n",
       "         17.,  380.,   89.,   32.,   56.,  132.,   22.,   33.,   37.,\n",
       "        361.,   29.,  102.,   54.,  121.,  144.,  155.,   46.,   50.,\n",
       "         63.,   94.,   77.,  238.,  215.,   34.,   66.,   59.,   40.,\n",
       "        112.,   36.,   79.,   73.,   70.,   97.,   48.,  101.,   81.,\n",
       "        162.,   49.,  145.,  207.,  124.,  180.,  326.,   45.,   99.,\n",
       "         30.,  251.,  100.,  106.,  195.,  472.,  211.,   90.,   88.,\n",
       "        110.,  118.,  306.,  293.,  192.,   61.,   64.,  129.,   92.,\n",
       "        114.,  158.,  135.,   44.,  126.,  164.,  437.,  176.,  318.,\n",
       "        141.,  117.,  196.,  355.,  917.,  173.,  628.,  415.,  224.,\n",
       "        203.,  185.,  230.,  160.,  128.,  234.,  339.,  161.,  201.,\n",
       "        290.,  247.,  189.,  249.,  288.,  169.,  200.,  322.,  272.,\n",
       "        395.,  277.,  220.,  184.,  523.,  261.,  274.,  281.,  245.,\n",
       "        256.,  585.,  756.,  349.,  313.,  569.,  372.,  346.,  265.,\n",
       "        596.,  832.,  504.,  420.,  819.,  375.,  402.,  386.,  543.,\n",
       "        337.,  749.,  341.,  334.,  690.,  430.,  409.,  452.,  343.,\n",
       "        488.,  460.,  663.,  724.,  769.,  642.,  442.,  366.,  618.,\n",
       "        514.,  897.,  889.,  370.,  496.,  554.,  482.,  716.,  874.,\n",
       "        739.,  605.,  979.,  923.,  531.,  675.,  536.,  783.,  800.,\n",
       "        849.,  703.,  909.,  989.,  869.,  843.,  948.,  970.,  973.,\n",
       "        956.,  937.,  994.,  985.,  997.,  966.,  998.,  999., 1000.,\n",
       "         20.,   25.,   60.,   14.,  143.,   11.,   71.,  270.,  388.,\n",
       "        154.,   67.,   38.,   52.,   43.,  125.,  204.,  344.,  150.,\n",
       "         55.,   53.,  119.,  235.,  156.,   84.,   85.,  140.,   95.,\n",
       "        906.,  190.,  103.,   65.,  130.,  273.,   83.,  111.,   87.,\n",
       "        209.,  134.,  646.,  289.,  447.,  138.,  115.,  127.,  170.,\n",
       "        122.,  105.,  179.,  147.,  109.,  216.,  116.,  188.,  219.,\n",
       "        396.,  242.,  174.,  159.,  197.,  335.,  213.,  227.,  178.,\n",
       "        225.,  308.,  285.,  511.,  231.,  292.,  330.,  362.,  590.,\n",
       "        255.,  300.,  262.,  486.,  413.,  529.,  558.,  381.,  260.,\n",
       "        606.,  353.,  503.,  781.,  850.,  358.,  324.,  373.,  565.,\n",
       "        540.,  796.,  457.,  480.,  424.,  754.,  471.,  671.,  369.,\n",
       "        770.,  659.,  495.,  637.,  579.,  715.,  809.,  896.,  741.,\n",
       "        520.,  549.,  886.,  880.,  958.,  837.,  921.,  622.,  699.,\n",
       "        686.,  826.,  732.,  946.,  867.,  932.,  984.,  991.,  969.,\n",
       "        981.,  975.])"
      ]
     },
     "execution_count": 11,
     "metadata": {},
     "output_type": "execute_result"
    }
   ],
   "source": [
    "data.broad_impact.unique()  #these are the unique values present in the broad_impact row."
   ]
  },
  {
   "cell_type": "code",
   "execution_count": 12,
   "id": "c3cecf75",
   "metadata": {
    "execution": {
     "iopub.execute_input": "2023-10-05T09:18:30.330677Z",
     "iopub.status.busy": "2023-10-05T09:18:30.330142Z",
     "iopub.status.idle": "2023-10-05T09:18:30.336582Z",
     "shell.execute_reply": "2023-10-05T09:18:30.335798Z"
    },
    "papermill": {
     "duration": 0.017778,
     "end_time": "2023-10-05T09:18:30.338445",
     "exception": false,
     "start_time": "2023-10-05T09:18:30.320667",
     "status": "completed"
    },
    "tags": []
   },
   "outputs": [
    {
     "data": {
      "text/plain": [
       "array([ nan,  nan,  nan, ..., 975., 975., 981.])"
      ]
     },
     "execution_count": 12,
     "metadata": {},
     "output_type": "execute_result"
    }
   ],
   "source": [
    "data.broad_impact.values  #values of broad_impact"
   ]
  },
  {
   "cell_type": "markdown",
   "id": "4b260f30",
   "metadata": {
    "papermill": {
     "duration": 0.008217,
     "end_time": "2023-10-05T09:18:30.354850",
     "exception": false,
     "start_time": "2023-10-05T09:18:30.346633",
     "status": "completed"
    },
    "tags": []
   },
   "source": [
    "**replacing the null values with other values**\n"
   ]
  },
  {
   "cell_type": "code",
   "execution_count": 13,
   "id": "a72ecfb0",
   "metadata": {
    "execution": {
     "iopub.execute_input": "2023-10-05T09:18:30.443248Z",
     "iopub.status.busy": "2023-10-05T09:18:30.442678Z",
     "iopub.status.idle": "2023-10-05T09:18:30.449474Z",
     "shell.execute_reply": "2023-10-05T09:18:30.448605Z"
    },
    "papermill": {
     "duration": 0.018616,
     "end_time": "2023-10-05T09:18:30.451352",
     "exception": false,
     "start_time": "2023-10-05T09:18:30.432736",
     "status": "completed"
    },
    "tags": []
   },
   "outputs": [
    {
     "data": {
      "text/plain": [
       "642.0"
      ]
     },
     "execution_count": 13,
     "metadata": {},
     "output_type": "execute_result"
    }
   ],
   "source": [
    "# we are replacing the null values with most repeated value 642 which is mode of broad_impact.\n",
    "mode=data.broad_impact.mode()[0]\n",
    "mode"
   ]
  },
  {
   "cell_type": "markdown",
   "id": "270882d9",
   "metadata": {
    "papermill": {
     "duration": 0.008054,
     "end_time": "2023-10-05T09:18:30.467696",
     "exception": false,
     "start_time": "2023-10-05T09:18:30.459642",
     "status": "completed"
    },
    "tags": []
   },
   "source": [
    "\n",
    "**Replacing null values by using fillna() function**\n"
   ]
  },
  {
   "cell_type": "code",
   "execution_count": 14,
   "id": "e78a6842",
   "metadata": {
    "execution": {
     "iopub.execute_input": "2023-10-05T09:18:30.486795Z",
     "iopub.status.busy": "2023-10-05T09:18:30.486314Z",
     "iopub.status.idle": "2023-10-05T09:18:30.493567Z",
     "shell.execute_reply": "2023-10-05T09:18:30.492222Z"
    },
    "papermill": {
     "duration": 0.020016,
     "end_time": "2023-10-05T09:18:30.495956",
     "exception": false,
     "start_time": "2023-10-05T09:18:30.475940",
     "status": "completed"
    },
    "tags": []
   },
   "outputs": [],
   "source": [
    "data['broad_impact'].fillna(mode, inplace= True)  \n",
    "\n",
    "# inplace - use to change in orginal data without assigning separately."
   ]
  },
  {
   "cell_type": "code",
   "execution_count": 15,
   "id": "c069eaaa",
   "metadata": {
    "execution": {
     "iopub.execute_input": "2023-10-05T09:18:30.518189Z",
     "iopub.status.busy": "2023-10-05T09:18:30.516828Z",
     "iopub.status.idle": "2023-10-05T09:18:30.527073Z",
     "shell.execute_reply": "2023-10-05T09:18:30.525874Z"
    },
    "papermill": {
     "duration": 0.023704,
     "end_time": "2023-10-05T09:18:30.529348",
     "exception": false,
     "start_time": "2023-10-05T09:18:30.505644",
     "status": "completed"
    },
    "tags": []
   },
   "outputs": [
    {
     "data": {
      "text/plain": [
       "world_rank              0\n",
       "institution             0\n",
       "country                 0\n",
       "national_rank           0\n",
       "quality_of_education    0\n",
       "alumni_employment       0\n",
       "quality_of_faculty      0\n",
       "publications            0\n",
       "influence               0\n",
       "citations               0\n",
       "broad_impact            0\n",
       "patents                 0\n",
       "score                   0\n",
       "year                    0\n",
       "dtype: int64"
      ]
     },
     "execution_count": 15,
     "metadata": {},
     "output_type": "execute_result"
    }
   ],
   "source": [
    "data.isnull().sum()  # Now, there is no null values "
   ]
  },
  {
   "cell_type": "markdown",
   "id": "dfe68c15",
   "metadata": {
    "papermill": {
     "duration": 0.008903,
     "end_time": "2023-10-05T09:18:30.546929",
     "exception": false,
     "start_time": "2023-10-05T09:18:30.538026",
     "status": "completed"
    },
    "tags": []
   },
   "source": [
    "**droping the null values record**"
   ]
  },
  {
   "cell_type": "code",
   "execution_count": 16,
   "id": "e8815f38",
   "metadata": {
    "execution": {
     "iopub.execute_input": "2023-10-05T09:18:30.566178Z",
     "iopub.status.busy": "2023-10-05T09:18:30.565685Z",
     "iopub.status.idle": "2023-10-05T09:18:30.573353Z",
     "shell.execute_reply": "2023-10-05T09:18:30.571947Z"
    },
    "papermill": {
     "duration": 0.019937,
     "end_time": "2023-10-05T09:18:30.575520",
     "exception": false,
     "start_time": "2023-10-05T09:18:30.555583",
     "status": "completed"
    },
    "tags": []
   },
   "outputs": [],
   "source": [
    "data.dropna(how='all', inplace=True)  \n",
    "#here , we are droping whole records contain null values."
   ]
  },
  {
   "cell_type": "markdown",
   "id": "25526156",
   "metadata": {
    "papermill": {
     "duration": 0.008293,
     "end_time": "2023-10-05T09:18:30.592616",
     "exception": false,
     "start_time": "2023-10-05T09:18:30.584323",
     "status": "completed"
    },
    "tags": []
   },
   "source": [
    "**finding the duplicate values**"
   ]
  },
  {
   "cell_type": "code",
   "execution_count": 17,
   "id": "70058d0d",
   "metadata": {
    "execution": {
     "iopub.execute_input": "2023-10-05T09:18:30.612227Z",
     "iopub.status.busy": "2023-10-05T09:18:30.611722Z",
     "iopub.status.idle": "2023-10-05T09:18:30.633284Z",
     "shell.execute_reply": "2023-10-05T09:18:30.632413Z"
    },
    "papermill": {
     "duration": 0.034096,
     "end_time": "2023-10-05T09:18:30.635253",
     "exception": false,
     "start_time": "2023-10-05T09:18:30.601157",
     "status": "completed"
    },
    "tags": []
   },
   "outputs": [
    {
     "data": {
      "text/html": [
       "<div>\n",
       "<style scoped>\n",
       "    .dataframe tbody tr th:only-of-type {\n",
       "        vertical-align: middle;\n",
       "    }\n",
       "\n",
       "    .dataframe tbody tr th {\n",
       "        vertical-align: top;\n",
       "    }\n",
       "\n",
       "    .dataframe thead th {\n",
       "        text-align: right;\n",
       "    }\n",
       "</style>\n",
       "<table border=\"1\" class=\"dataframe\">\n",
       "  <thead>\n",
       "    <tr style=\"text-align: right;\">\n",
       "      <th></th>\n",
       "      <th>world_rank</th>\n",
       "      <th>institution</th>\n",
       "      <th>country</th>\n",
       "      <th>national_rank</th>\n",
       "      <th>quality_of_education</th>\n",
       "      <th>alumni_employment</th>\n",
       "      <th>quality_of_faculty</th>\n",
       "      <th>publications</th>\n",
       "      <th>influence</th>\n",
       "      <th>citations</th>\n",
       "      <th>broad_impact</th>\n",
       "      <th>patents</th>\n",
       "      <th>score</th>\n",
       "      <th>year</th>\n",
       "    </tr>\n",
       "  </thead>\n",
       "  <tbody>\n",
       "  </tbody>\n",
       "</table>\n",
       "</div>"
      ],
      "text/plain": [
       "Empty DataFrame\n",
       "Columns: [world_rank, institution, country, national_rank, quality_of_education, alumni_employment, quality_of_faculty, publications, influence, citations, broad_impact, patents, score, year]\n",
       "Index: []"
      ]
     },
     "execution_count": 17,
     "metadata": {},
     "output_type": "execute_result"
    }
   ],
   "source": [
    "mask=data.duplicated()   # no duplicates are found \n",
    "data[mask]"
   ]
  },
  {
   "cell_type": "markdown",
   "id": "2ad652ea",
   "metadata": {
    "papermill": {
     "duration": 0.008843,
     "end_time": "2023-10-05T09:18:30.652777",
     "exception": false,
     "start_time": "2023-10-05T09:18:30.643934",
     "status": "completed"
    },
    "tags": []
   },
   "source": [
    "**Creating visualizations using the matplotlib**"
   ]
  },
  {
   "cell_type": "markdown",
   "id": "f17cf3a3",
   "metadata": {
    "papermill": {
     "duration": 0.008338,
     "end_time": "2023-10-05T09:18:30.669600",
     "exception": false,
     "start_time": "2023-10-05T09:18:30.661262",
     "status": "completed"
    },
    "tags": []
   },
   "source": [
    "**In Matplotlib, charts are graphical representations of data used for visualizing and interpreting data patterns. Matplotlib provides various types of charts to help you present and understand your data effectively. Some of the most common types of charts you can create in Matplotlib include: Line Chart, Bar Chart, Scatter Plot, Pie Chart , Histogram, Box Plot, Heapmap, etc are mainly used for the vvisualization**"
   ]
  },
  {
   "cell_type": "code",
   "execution_count": 18,
   "id": "03482c2e",
   "metadata": {
    "execution": {
     "iopub.execute_input": "2023-10-05T09:18:30.689474Z",
     "iopub.status.busy": "2023-10-05T09:18:30.689025Z",
     "iopub.status.idle": "2023-10-05T09:18:30.896233Z",
     "shell.execute_reply": "2023-10-05T09:18:30.894642Z"
    },
    "papermill": {
     "duration": 0.22044,
     "end_time": "2023-10-05T09:18:30.898557",
     "exception": false,
     "start_time": "2023-10-05T09:18:30.678117",
     "status": "completed"
    },
    "tags": []
   },
   "outputs": [
    {
     "data": {
      "image/png": "[encoded data removed]",
      "text/plain": [
       "<Figure size 700x500 with 1 Axes>"
      ]
     },
     "metadata": {},
     "output_type": "display_data"
    }
   ],
   "source": [
    "# pie chart\n",
    "year_data=data['year'].value_counts()\n",
    "plt.style.use('seaborn-v0_8')\n",
    "\n",
    "plt.figure( figsize=(7,5))\n",
    "plt.title('Year wise university ranking')\n",
    "\n",
    "labels=['2014','2015','2012','2013']\n",
    "plt.pie(year_data, labels = labels, autopct='%0.2f %%')\n",
    "\n",
    "plt.show()"
   ]
  },
  {
   "cell_type": "code",
   "execution_count": 19,
   "id": "cc9a1745",
   "metadata": {
    "execution": {
     "iopub.execute_input": "2023-10-05T09:18:30.942111Z",
     "iopub.status.busy": "2023-10-05T09:18:30.941325Z",
     "iopub.status.idle": "2023-10-05T09:18:31.300471Z",
     "shell.execute_reply": "2023-10-05T09:18:31.299096Z"
    },
    "papermill": {
     "duration": 0.378431,
     "end_time": "2023-10-05T09:18:31.303220",
     "exception": false,
     "start_time": "2023-10-05T09:18:30.924789",
     "status": "completed"
    },
    "tags": []
   },
   "outputs": [
    {
     "data": {
      "image/png": "[encoded data removed]",
      "text/plain": [
       "<Figure size 700x500 with 1 Axes>"
      ]
     },
     "metadata": {},
     "output_type": "display_data"
    }
   ],
   "source": [
    "# Bar chart\n",
    "plt.figure(figsize=(7,5))\n",
    "plt.title('Top 20 countries with most rank universities')\n",
    "\n",
    "country=data['country'].value_counts().head(20)\n",
    "plt.barh( country.index ,country.values)\n",
    "\n",
    "plt.show()"
   ]
  },
  {
   "cell_type": "code",
   "execution_count": 20,
   "id": "63294c50",
   "metadata": {
    "execution": {
     "iopub.execute_input": "2023-10-05T09:18:31.326280Z",
     "iopub.status.busy": "2023-10-05T09:18:31.325900Z",
     "iopub.status.idle": "2023-10-05T09:18:31.589400Z",
     "shell.execute_reply": "2023-10-05T09:18:31.587911Z"
    },
    "papermill": {
     "duration": 0.277826,
     "end_time": "2023-10-05T09:18:31.591723",
     "exception": false,
     "start_time": "2023-10-05T09:18:31.313897",
     "status": "completed"
    },
    "tags": []
   },
   "outputs": [
    {
     "data": {
      "image/png": "[encoded data removed]",
      "text/plain": [
       "<Figure size 600x400 with 1 Axes>"
      ]
     },
     "metadata": {},
     "output_type": "display_data"
    }
   ],
   "source": [
    "# Histogram chart\n",
    "plt.figure(figsize=(6,4))\n",
    "plt.title('Publications')\n",
    "\n",
    "bins=[0,400,600,800,1000,1200]\n",
    "plt.hist( data['publications'],bins, color='#abcdef')\n",
    "\n",
    "plt.xlabel('No of publications')\n",
    "plt.ylabel('count')\n",
    "\n",
    "plt.show()\n"
   ]
  },
  {
   "cell_type": "code",
   "execution_count": 21,
   "id": "347462e1",
   "metadata": {
    "execution": {
     "iopub.execute_input": "2023-10-05T09:18:31.614911Z",
     "iopub.status.busy": "2023-10-05T09:18:31.614231Z",
     "iopub.status.idle": "2023-10-05T09:18:31.814007Z",
     "shell.execute_reply": "2023-10-05T09:18:31.812071Z"
    },
    "papermill": {
     "duration": 0.21549,
     "end_time": "2023-10-05T09:18:31.817968",
     "exception": false,
     "start_time": "2023-10-05T09:18:31.602478",
     "status": "completed"
    },
    "tags": []
   },
   "outputs": [
    {
     "data": {
      "image/png": "[encoded data removed]",
      "text/plain": [
       "<Figure size 600x400 with 1 Axes>"
      ]
     },
     "metadata": {},
     "output_type": "display_data"
    }
   ],
   "source": [
    "plt.figure(figsize=(6,4))\n",
    "\n",
    "plt.title('Average university world ranking by year')\n",
    "\n",
    "values = data.groupby('year')['world_rank'].median()\n",
    "\n",
    "plt.plot( values.index , values.values,marker='.', markersize=10)\n",
    "\n",
    "plt.xticks([2012, 2013, 2014, 2015])\n",
    "plt.yticks([100,200,300,400,500])\n",
    "\n",
    "plt.xlabel('Year')\n",
    "plt.ylabel('world ranking')\n",
    "\n",
    "plt.legend()\n",
    "plt.show()"
   ]
  },
  {
   "cell_type": "code",
   "execution_count": 22,
   "id": "df3c3d39",
   "metadata": {
    "execution": {
     "iopub.execute_input": "2023-10-05T09:18:31.849508Z",
     "iopub.status.busy": "2023-10-05T09:18:31.848369Z",
     "iopub.status.idle": "2023-10-05T09:18:32.143336Z",
     "shell.execute_reply": "2023-10-05T09:18:32.141995Z"
    },
    "papermill": {
     "duration": 0.309816,
     "end_time": "2023-10-05T09:18:32.145873",
     "exception": false,
     "start_time": "2023-10-05T09:18:31.836057",
     "status": "completed"
    },
    "tags": []
   },
   "outputs": [
    {
     "data": {
      "image/png": "[encoded data removed]",
      "text/plain": [
       "<Figure size 600x400 with 1 Axes>"
      ]
     },
     "metadata": {},
     "output_type": "display_data"
    }
   ],
   "source": [
    "# Bar chart\n",
    "top_data=data.head(10)\n",
    "plt.figure(figsize=(6,4))\n",
    "\n",
    "plt.title('Top 10 Universies with highest alumni employment')\n",
    "plt.barh(top_data['institution'],top_data['alumni_employment'])\n",
    "\n",
    "plt.show()"
   ]
  },
  {
   "cell_type": "markdown",
   "id": "cceb2f47",
   "metadata": {
    "papermill": {
     "duration": 0.012207,
     "end_time": "2023-10-05T09:18:32.169842",
     "exception": false,
     "start_time": "2023-10-05T09:18:32.157635",
     "status": "completed"
    },
    "tags": []
   },
   "source": [
    "****Conclusion:  \n",
    "The EDA project provided valuable insights into the World University Rankings dataset, helping us understand various aspects of university rankings and associated factors.\n",
    "The findings can be used for further analysis, comparisons, and decision-making in the field of higher education.\n",
    "It is important to note that further analysis and domain-specific knowledge are necessary to draw comprehensive conclusions and make informed decisions based on the dataset.****"
   ]
  }
 ],
 "metadata": {
  "kernelspec": {
   "display_name": "Python 3",
   "language": "python",
   "name": "python3"
  },
  "language_info": {
   "codemirror_mode": {
    "name": "ipython",
    "version": 3
   },
   "file_extension": ".py",
   "mimetype": "text/x-python",
   "name": "python",
   "nbconvert_exporter": "python",
   "pygments_lexer": "ipython3",
   "version": "3.10.12"
  },
  "papermill": {
   "default_parameters": {},
   "duration": 7.273085,
   "end_time": "2023-10-05T09:18:32.705206",
   "environment_variables": {},
   "exception": null,
   "input_path": "__notebook__.ipynb",
   "output_path": "__notebook__.ipynb",
   "parameters": {},
   "start_time": "2023-10-05T09:18:25.432121",
   "version": "2.4.0"
  }
 },
 "nbformat": 4,
 "nbformat_minor": 5
}
