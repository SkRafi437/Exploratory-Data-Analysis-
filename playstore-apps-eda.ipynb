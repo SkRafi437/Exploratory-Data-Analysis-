{
 "cells": [
  {
   "cell_type": "markdown",
   "id": "fee7780f",
   "metadata": {
    "papermill": {
     "duration": 0.012135,
     "end_time": "2023-09-23T12:53:59.587044",
     "exception": false,
     "start_time": "2023-09-23T12:53:59.574909",
     "status": "completed"
    },
    "tags": []
   },
   "source": [
    "**Exploratory data analysis is an approach to analyze the data using visual techniques.it is used to discover trends,patterns,or to check assumptions with the help of statistical summary and graphical representions.we are performing eda on google playstore apps dataset by multiple libraries in this project which will help us in analysing and visualizing our dataset.Visualizing is important as it helps people/developers see, interact with, and better understand of the data.**"
   ]
  },
  {
   "cell_type": "markdown",
   "id": "1c606ef4",
   "metadata": {
    "papermill": {
     "duration": 0.011211,
     "end_time": "2023-09-23T12:53:59.610047",
     "exception": false,
     "start_time": "2023-09-23T12:53:59.598836",
     "status": "completed"
    },
    "tags": []
   },
   "source": [
    "**Importing required libraries**"
   ]
  },
  {
   "cell_type": "code",
   "execution_count": 1,
   "id": "26d8688b",
   "metadata": {
    "_cell_guid": "b1076dfc-b9ad-4769-8c92-a6c4dae69d19",
    "_uuid": "8f2839f25d086af736a60e9eeb907d3b93b6e0e5",
    "execution": {
     "iopub.execute_input": "2023-09-23T12:53:59.635311Z",
     "iopub.status.busy": "2023-09-23T12:53:59.634914Z",
     "iopub.status.idle": "2023-09-23T12:54:00.045066Z",
     "shell.execute_reply": "2023-09-23T12:54:00.043964Z"
    },
    "papermill": {
     "duration": 0.426222,
     "end_time": "2023-09-23T12:54:00.047908",
     "exception": false,
     "start_time": "2023-09-23T12:53:59.621686",
     "status": "completed"
    },
    "tags": []
   },
   "outputs": [],
   "source": [
    "import pandas as pd\n",
    "import numpy as np\n",
    "import matplotlib.pyplot as plt"
   ]
  },
  {
   "cell_type": "markdown",
   "id": "7e95ab2f",
   "metadata": {
    "papermill": {
     "duration": 0.011353,
     "end_time": "2023-09-23T12:54:00.071328",
     "exception": false,
     "start_time": "2023-09-23T12:54:00.059975",
     "status": "completed"
    },
    "tags": []
   },
   "source": [
    "**Now, reading the playstore dataset using pandas**"
   ]
  },
  {
   "cell_type": "code",
   "execution_count": 2,
   "id": "17bb6096",
   "metadata": {
    "execution": {
     "iopub.execute_input": "2023-09-23T12:54:00.097029Z",
     "iopub.status.busy": "2023-09-23T12:54:00.096197Z",
     "iopub.status.idle": "2023-09-23T12:54:00.228714Z",
     "shell.execute_reply": "2023-09-23T12:54:00.227564Z"
    },
    "papermill": {
     "duration": 0.148807,
     "end_time": "2023-09-23T12:54:00.231887",
     "exception": false,
     "start_time": "2023-09-23T12:54:00.083080",
     "status": "completed"
    },
    "tags": []
   },
   "outputs": [
    {
     "data": {
      "text/html": [
       "<div>\n",
       "<style scoped>\n",
       "    .dataframe tbody tr th:only-of-type {\n",
       "        vertical-align: middle;\n",
       "    }\n",
       "\n",
       "    .dataframe tbody tr th {\n",
       "        vertical-align: top;\n",
       "    }\n",
       "\n",
       "    .dataframe thead th {\n",
       "        text-align: right;\n",
       "    }\n",
       "</style>\n",
       "<table border=\"1\" class=\"dataframe\">\n",
       "  <thead>\n",
       "    <tr style=\"text-align: right;\">\n",
       "      <th></th>\n",
       "      <th>App</th>\n",
       "      <th>Category</th>\n",
       "      <th>Rating</th>\n",
       "      <th>Reviews</th>\n",
       "      <th>Size</th>\n",
       "      <th>Installs</th>\n",
       "      <th>Type</th>\n",
       "      <th>Price</th>\n",
       "      <th>Content Rating</th>\n",
       "      <th>Genres</th>\n",
       "      <th>Last Updated</th>\n",
       "      <th>Current Ver</th>\n",
       "      <th>Android Ver</th>\n",
       "    </tr>\n",
       "  </thead>\n",
       "  <tbody>\n",
       "    <tr>\n",
       "      <th>0</th>\n",
       "      <td>Photo Editor &amp; Candy Camera &amp; Grid &amp; ScrapBook</td>\n",
       "      <td>ART_AND_DESIGN</td>\n",
       "      <td>4.1</td>\n",
       "      <td>159</td>\n",
       "      <td>19M</td>\n",
       "      <td>10,000+</td>\n",
       "      <td>Free</td>\n",
       "      <td>0</td>\n",
       "      <td>Everyone</td>\n",
       "      <td>Art &amp; Design</td>\n",
       "      <td>January 7, 2018</td>\n",
       "      <td>1.0.0</td>\n",
       "      <td>4.0.3 and up</td>\n",
       "    </tr>\n",
       "    <tr>\n",
       "      <th>1</th>\n",
       "      <td>Coloring book moana</td>\n",
       "      <td>ART_AND_DESIGN</td>\n",
       "      <td>3.9</td>\n",
       "      <td>967</td>\n",
       "      <td>14M</td>\n",
       "      <td>500,000+</td>\n",
       "      <td>Free</td>\n",
       "      <td>0</td>\n",
       "      <td>Everyone</td>\n",
       "      <td>Art &amp; Design;Pretend Play</td>\n",
       "      <td>January 15, 2018</td>\n",
       "      <td>2.0.0</td>\n",
       "      <td>4.0.3 and up</td>\n",
       "    </tr>\n",
       "    <tr>\n",
       "      <th>2</th>\n",
       "      <td>U Launcher Lite – FREE Live Cool Themes, Hide ...</td>\n",
       "      <td>ART_AND_DESIGN</td>\n",
       "      <td>4.7</td>\n",
       "      <td>87510</td>\n",
       "      <td>8.7M</td>\n",
       "      <td>5,000,000+</td>\n",
       "      <td>Free</td>\n",
       "      <td>0</td>\n",
       "      <td>Everyone</td>\n",
       "      <td>Art &amp; Design</td>\n",
       "      <td>August 1, 2018</td>\n",
       "      <td>1.2.4</td>\n",
       "      <td>4.0.3 and up</td>\n",
       "    </tr>\n",
       "    <tr>\n",
       "      <th>3</th>\n",
       "      <td>Sketch - Draw &amp; Paint</td>\n",
       "      <td>ART_AND_DESIGN</td>\n",
       "      <td>4.5</td>\n",
       "      <td>215644</td>\n",
       "      <td>25M</td>\n",
       "      <td>50,000,000+</td>\n",
       "      <td>Free</td>\n",
       "      <td>0</td>\n",
       "      <td>Teen</td>\n",
       "      <td>Art &amp; Design</td>\n",
       "      <td>June 8, 2018</td>\n",
       "      <td>Varies with device</td>\n",
       "      <td>4.2 and up</td>\n",
       "    </tr>\n",
       "    <tr>\n",
       "      <th>4</th>\n",
       "      <td>Pixel Draw - Number Art Coloring Book</td>\n",
       "      <td>ART_AND_DESIGN</td>\n",
       "      <td>4.3</td>\n",
       "      <td>967</td>\n",
       "      <td>2.8M</td>\n",
       "      <td>100,000+</td>\n",
       "      <td>Free</td>\n",
       "      <td>0</td>\n",
       "      <td>Everyone</td>\n",
       "      <td>Art &amp; Design;Creativity</td>\n",
       "      <td>June 20, 2018</td>\n",
       "      <td>1.1</td>\n",
       "      <td>4.4 and up</td>\n",
       "    </tr>\n",
       "    <tr>\n",
       "      <th>...</th>\n",
       "      <td>...</td>\n",
       "      <td>...</td>\n",
       "      <td>...</td>\n",
       "      <td>...</td>\n",
       "      <td>...</td>\n",
       "      <td>...</td>\n",
       "      <td>...</td>\n",
       "      <td>...</td>\n",
       "      <td>...</td>\n",
       "      <td>...</td>\n",
       "      <td>...</td>\n",
       "      <td>...</td>\n",
       "      <td>...</td>\n",
       "    </tr>\n",
       "    <tr>\n",
       "      <th>10836</th>\n",
       "      <td>Sya9a Maroc - FR</td>\n",
       "      <td>FAMILY</td>\n",
       "      <td>4.5</td>\n",
       "      <td>38</td>\n",
       "      <td>53M</td>\n",
       "      <td>5,000+</td>\n",
       "      <td>Free</td>\n",
       "      <td>0</td>\n",
       "      <td>Everyone</td>\n",
       "      <td>Education</td>\n",
       "      <td>July 25, 2017</td>\n",
       "      <td>1.48</td>\n",
       "      <td>4.1 and up</td>\n",
       "    </tr>\n",
       "    <tr>\n",
       "      <th>10837</th>\n",
       "      <td>Fr. Mike Schmitz Audio Teachings</td>\n",
       "      <td>FAMILY</td>\n",
       "      <td>5.0</td>\n",
       "      <td>4</td>\n",
       "      <td>3.6M</td>\n",
       "      <td>100+</td>\n",
       "      <td>Free</td>\n",
       "      <td>0</td>\n",
       "      <td>Everyone</td>\n",
       "      <td>Education</td>\n",
       "      <td>July 6, 2018</td>\n",
       "      <td>1.0</td>\n",
       "      <td>4.1 and up</td>\n",
       "    </tr>\n",
       "    <tr>\n",
       "      <th>10838</th>\n",
       "      <td>Parkinson Exercices FR</td>\n",
       "      <td>MEDICAL</td>\n",
       "      <td>NaN</td>\n",
       "      <td>3</td>\n",
       "      <td>9.5M</td>\n",
       "      <td>1,000+</td>\n",
       "      <td>Free</td>\n",
       "      <td>0</td>\n",
       "      <td>Everyone</td>\n",
       "      <td>Medical</td>\n",
       "      <td>January 20, 2017</td>\n",
       "      <td>1.0</td>\n",
       "      <td>2.2 and up</td>\n",
       "    </tr>\n",
       "    <tr>\n",
       "      <th>10839</th>\n",
       "      <td>The SCP Foundation DB fr nn5n</td>\n",
       "      <td>BOOKS_AND_REFERENCE</td>\n",
       "      <td>4.5</td>\n",
       "      <td>114</td>\n",
       "      <td>Varies with device</td>\n",
       "      <td>1,000+</td>\n",
       "      <td>Free</td>\n",
       "      <td>0</td>\n",
       "      <td>Mature 17+</td>\n",
       "      <td>Books &amp; Reference</td>\n",
       "      <td>January 19, 2015</td>\n",
       "      <td>Varies with device</td>\n",
       "      <td>Varies with device</td>\n",
       "    </tr>\n",
       "    <tr>\n",
       "      <th>10840</th>\n",
       "      <td>iHoroscope - 2018 Daily Horoscope &amp; Astrology</td>\n",
       "      <td>LIFESTYLE</td>\n",
       "      <td>4.5</td>\n",
       "      <td>398307</td>\n",
       "      <td>19M</td>\n",
       "      <td>10,000,000+</td>\n",
       "      <td>Free</td>\n",
       "      <td>0</td>\n",
       "      <td>Everyone</td>\n",
       "      <td>Lifestyle</td>\n",
       "      <td>July 25, 2018</td>\n",
       "      <td>Varies with device</td>\n",
       "      <td>Varies with device</td>\n",
       "    </tr>\n",
       "  </tbody>\n",
       "</table>\n",
       "<p>10841 rows × 13 columns</p>\n",
       "</div>"
      ],
      "text/plain": [
       "                                                     App             Category  \\\n",
       "0         Photo Editor & Candy Camera & Grid & ScrapBook       ART_AND_DESIGN   \n",
       "1                                    Coloring book moana       ART_AND_DESIGN   \n",
       "2      U Launcher Lite – FREE Live Cool Themes, Hide ...       ART_AND_DESIGN   \n",
       "3                                  Sketch - Draw & Paint       ART_AND_DESIGN   \n",
       "4                  Pixel Draw - Number Art Coloring Book       ART_AND_DESIGN   \n",
       "...                                                  ...                  ...   \n",
       "10836                                   Sya9a Maroc - FR               FAMILY   \n",
       "10837                   Fr. Mike Schmitz Audio Teachings               FAMILY   \n",
       "10838                             Parkinson Exercices FR              MEDICAL   \n",
       "10839                      The SCP Foundation DB fr nn5n  BOOKS_AND_REFERENCE   \n",
       "10840      iHoroscope - 2018 Daily Horoscope & Astrology            LIFESTYLE   \n",
       "\n",
       "       Rating Reviews                Size     Installs  Type Price  \\\n",
       "0         4.1     159                 19M      10,000+  Free     0   \n",
       "1         3.9     967                 14M     500,000+  Free     0   \n",
       "2         4.7   87510                8.7M   5,000,000+  Free     0   \n",
       "3         4.5  215644                 25M  50,000,000+  Free     0   \n",
       "4         4.3     967                2.8M     100,000+  Free     0   \n",
       "...       ...     ...                 ...          ...   ...   ...   \n",
       "10836     4.5      38                 53M       5,000+  Free     0   \n",
       "10837     5.0       4                3.6M         100+  Free     0   \n",
       "10838     NaN       3                9.5M       1,000+  Free     0   \n",
       "10839     4.5     114  Varies with device       1,000+  Free     0   \n",
       "10840     4.5  398307                 19M  10,000,000+  Free     0   \n",
       "\n",
       "      Content Rating                     Genres      Last Updated  \\\n",
       "0           Everyone               Art & Design   January 7, 2018   \n",
       "1           Everyone  Art & Design;Pretend Play  January 15, 2018   \n",
       "2           Everyone               Art & Design    August 1, 2018   \n",
       "3               Teen               Art & Design      June 8, 2018   \n",
       "4           Everyone    Art & Design;Creativity     June 20, 2018   \n",
       "...              ...                        ...               ...   \n",
       "10836       Everyone                  Education     July 25, 2017   \n",
       "10837       Everyone                  Education      July 6, 2018   \n",
       "10838       Everyone                    Medical  January 20, 2017   \n",
       "10839     Mature 17+          Books & Reference  January 19, 2015   \n",
       "10840       Everyone                  Lifestyle     July 25, 2018   \n",
       "\n",
       "              Current Ver         Android Ver  \n",
       "0                   1.0.0        4.0.3 and up  \n",
       "1                   2.0.0        4.0.3 and up  \n",
       "2                   1.2.4        4.0.3 and up  \n",
       "3      Varies with device          4.2 and up  \n",
       "4                     1.1          4.4 and up  \n",
       "...                   ...                 ...  \n",
       "10836                1.48          4.1 and up  \n",
       "10837                 1.0          4.1 and up  \n",
       "10838                 1.0          2.2 and up  \n",
       "10839  Varies with device  Varies with device  \n",
       "10840  Varies with device  Varies with device  \n",
       "\n",
       "[10841 rows x 13 columns]"
      ]
     },
     "execution_count": 2,
     "metadata": {},
     "output_type": "execute_result"
    }
   ],
   "source": [
    "df= pd.read_csv('/kaggle/input/google-play-store-apps/googleplaystore.csv')\n",
    "df  # reading the google play store csv dataset "
   ]
  },
  {
   "cell_type": "markdown",
   "id": "fa2e570d",
   "metadata": {
    "papermill": {
     "duration": 0.01184,
     "end_time": "2023-09-23T12:54:00.256057",
     "exception": false,
     "start_time": "2023-09-23T12:54:00.244217",
     "status": "completed"
    },
    "tags": []
   },
   "source": [
    "**Shape of the data  rows and columns**"
   ]
  },
  {
   "cell_type": "code",
   "execution_count": 3,
   "id": "bda9777e",
   "metadata": {
    "execution": {
     "iopub.execute_input": "2023-09-23T12:54:00.282081Z",
     "iopub.status.busy": "2023-09-23T12:54:00.281709Z",
     "iopub.status.idle": "2023-09-23T12:54:00.288165Z",
     "shell.execute_reply": "2023-09-23T12:54:00.287182Z"
    },
    "papermill": {
     "duration": 0.022154,
     "end_time": "2023-09-23T12:54:00.290428",
     "exception": false,
     "start_time": "2023-09-23T12:54:00.268274",
     "status": "completed"
    },
    "tags": []
   },
   "outputs": [
    {
     "data": {
      "text/plain": [
       "(10841, 13)"
      ]
     },
     "execution_count": 3,
     "metadata": {},
     "output_type": "execute_result"
    }
   ],
   "source": [
    "df.shape   \n",
    "# it has shape of 10841 rows and 10841 columns"
   ]
  },
  {
   "cell_type": "markdown",
   "id": "515fb281",
   "metadata": {
    "papermill": {
     "duration": 0.012138,
     "end_time": "2023-09-23T12:54:00.314931",
     "exception": false,
     "start_time": "2023-09-23T12:54:00.302793",
     "status": "completed"
    },
    "tags": []
   },
   "source": [
    "**heading of column values**"
   ]
  },
  {
   "cell_type": "code",
   "execution_count": 4,
   "id": "9be3276a",
   "metadata": {
    "execution": {
     "iopub.execute_input": "2023-09-23T12:54:00.341900Z",
     "iopub.status.busy": "2023-09-23T12:54:00.341478Z",
     "iopub.status.idle": "2023-09-23T12:54:00.348919Z",
     "shell.execute_reply": "2023-09-23T12:54:00.347790Z"
    },
    "papermill": {
     "duration": 0.023924,
     "end_time": "2023-09-23T12:54:00.351370",
     "exception": false,
     "start_time": "2023-09-23T12:54:00.327446",
     "status": "completed"
    },
    "tags": []
   },
   "outputs": [
    {
     "data": {
      "text/plain": [
       "Index(['App', 'Category', 'Rating', 'Reviews', 'Size', 'Installs', 'Type',\n",
       "       'Price', 'Content Rating', 'Genres', 'Last Updated', 'Current Ver',\n",
       "       'Android Ver'],\n",
       "      dtype='object')"
      ]
     },
     "execution_count": 4,
     "metadata": {},
     "output_type": "execute_result"
    }
   ],
   "source": [
    "df.columns  \n",
    "# it contains 13 column values "
   ]
  },
  {
   "cell_type": "markdown",
   "id": "a3c8d703",
   "metadata": {
    "papermill": {
     "duration": 0.012454,
     "end_time": "2023-09-23T12:54:00.376460",
     "exception": false,
     "start_time": "2023-09-23T12:54:00.364006",
     "status": "completed"
    },
    "tags": []
   },
   "source": [
    "**information of dataset about values , memory, datatype**"
   ]
  },
  {
   "cell_type": "code",
   "execution_count": 5,
   "id": "ec5b33ad",
   "metadata": {
    "execution": {
     "iopub.execute_input": "2023-09-23T12:54:00.403210Z",
     "iopub.status.busy": "2023-09-23T12:54:00.402822Z",
     "iopub.status.idle": "2023-09-23T12:54:00.440667Z",
     "shell.execute_reply": "2023-09-23T12:54:00.439845Z"
    },
    "papermill": {
     "duration": 0.054265,
     "end_time": "2023-09-23T12:54:00.443351",
     "exception": false,
     "start_time": "2023-09-23T12:54:00.389086",
     "status": "completed"
    },
    "tags": []
   },
   "outputs": [
    {
     "name": "stdout",
     "output_type": "stream",
     "text": [
      "<class 'pandas.core.frame.DataFrame'>\n",
      "RangeIndex: 10841 entries, 0 to 10840\n",
      "Data columns (total 13 columns):\n",
      " #   Column          Non-Null Count  Dtype  \n",
      "---  ------          --------------  -----  \n",
      " 0   App             10841 non-null  object \n",
      " 1   Category        10841 non-null  object \n",
      " 2   Rating          9367 non-null   float64\n",
      " 3   Reviews         10841 non-null  object \n",
      " 4   Size            10841 non-null  object \n",
      " 5   Installs        10841 non-null  object \n",
      " 6   Type            10840 non-null  object \n",
      " 7   Price           10841 non-null  object \n",
      " 8   Content Rating  10840 non-null  object \n",
      " 9   Genres          10841 non-null  object \n",
      " 10  Last Updated    10841 non-null  object \n",
      " 11  Current Ver     10833 non-null  object \n",
      " 12  Android Ver     10838 non-null  object \n",
      "dtypes: float64(1), object(12)\n",
      "memory usage: 1.1+ MB\n"
     ]
    }
   ],
   "source": [
    "df.info()  \n",
    "# information of the dataset like- null values, memory , dtype."
   ]
  },
  {
   "cell_type": "markdown",
   "id": "ca96ea6a",
   "metadata": {
    "papermill": {
     "duration": 0.012496,
     "end_time": "2023-09-23T12:54:00.469243",
     "exception": false,
     "start_time": "2023-09-23T12:54:00.456747",
     "status": "completed"
    },
    "tags": []
   },
   "source": [
    "**Now, Sorting the Index**"
   ]
  },
  {
   "cell_type": "code",
   "execution_count": 6,
   "id": "01c9eac2",
   "metadata": {
    "execution": {
     "iopub.execute_input": "2023-09-23T12:54:00.496935Z",
     "iopub.status.busy": "2023-09-23T12:54:00.496488Z",
     "iopub.status.idle": "2023-09-23T12:54:00.500668Z",
     "shell.execute_reply": "2023-09-23T12:54:00.499900Z"
    },
    "papermill": {
     "duration": 0.020076,
     "end_time": "2023-09-23T12:54:00.502581",
     "exception": false,
     "start_time": "2023-09-23T12:54:00.482505",
     "status": "completed"
    },
    "tags": []
   },
   "outputs": [],
   "source": [
    "df.sort_index(inplace= True) \n",
    "# it is best practise to sort index before using data."
   ]
  },
  {
   "cell_type": "markdown",
   "id": "f1b004f5",
   "metadata": {
    "papermill": {
     "duration": 0.012382,
     "end_time": "2023-09-23T12:54:00.527667",
     "exception": false,
     "start_time": "2023-09-23T12:54:00.515285",
     "status": "completed"
    },
    "tags": []
   },
   "source": [
    "**Counting the sum of Null values present in the dataset by using isna() function and it is necessary to identify null values and change the values with some relevant values**"
   ]
  },
  {
   "cell_type": "code",
   "execution_count": 7,
   "id": "6dad0a9a",
   "metadata": {
    "execution": {
     "iopub.execute_input": "2023-09-23T12:54:00.554735Z",
     "iopub.status.busy": "2023-09-23T12:54:00.554309Z",
     "iopub.status.idle": "2023-09-23T12:54:00.576608Z",
     "shell.execute_reply": "2023-09-23T12:54:00.575455Z"
    },
    "papermill": {
     "duration": 0.03859,
     "end_time": "2023-09-23T12:54:00.578901",
     "exception": false,
     "start_time": "2023-09-23T12:54:00.540311",
     "status": "completed"
    },
    "tags": []
   },
   "outputs": [
    {
     "data": {
      "text/plain": [
       "App                  0\n",
       "Category             0\n",
       "Rating            1474\n",
       "Reviews              0\n",
       "Size                 0\n",
       "Installs             0\n",
       "Type                 1\n",
       "Price                0\n",
       "Content Rating       1\n",
       "Genres               0\n",
       "Last Updated         0\n",
       "Current Ver          8\n",
       "Android Ver          3\n",
       "dtype: int64"
      ]
     },
     "execution_count": 7,
     "metadata": {},
     "output_type": "execute_result"
    }
   ],
   "source": [
    "df.isna().sum()  \n",
    "# columns containing Null values:- Rating, Type,Content Rating,Current Ver,Android Ver."
   ]
  },
  {
   "cell_type": "markdown",
   "id": "33bad2cc",
   "metadata": {
    "papermill": {
     "duration": 0.012564,
     "end_time": "2023-09-23T12:54:00.604448",
     "exception": false,
     "start_time": "2023-09-23T12:54:00.591884",
     "status": "completed"
    },
    "tags": []
   },
   "source": [
    "**rating column contain null values.checking unique values in Rating column**"
   ]
  },
  {
   "cell_type": "code",
   "execution_count": 8,
   "id": "e558bc31",
   "metadata": {
    "execution": {
     "iopub.execute_input": "2023-09-23T12:54:00.632098Z",
     "iopub.status.busy": "2023-09-23T12:54:00.631711Z",
     "iopub.status.idle": "2023-09-23T12:54:00.640012Z",
     "shell.execute_reply": "2023-09-23T12:54:00.639066Z"
    },
    "papermill": {
     "duration": 0.024439,
     "end_time": "2023-09-23T12:54:00.642115",
     "exception": false,
     "start_time": "2023-09-23T12:54:00.617676",
     "status": "completed"
    },
    "tags": []
   },
   "outputs": [
    {
     "data": {
      "text/plain": [
       "array([ 4.1,  3.9,  4.7,  4.5,  4.3,  4.4,  3.8,  4.2,  4.6,  3.2,  4. ,\n",
       "        nan,  4.8,  4.9,  3.6,  3.7,  3.3,  3.4,  3.5,  3.1,  5. ,  2.6,\n",
       "        3. ,  1.9,  2.5,  2.8,  2.7,  1. ,  2.9,  2.3,  2.2,  1.7,  2. ,\n",
       "        1.8,  2.4,  1.6,  2.1,  1.4,  1.5,  1.2, 19. ])"
      ]
     },
     "execution_count": 8,
     "metadata": {},
     "output_type": "execute_result"
    }
   ],
   "source": [
    "df.Rating.unique()\n",
    "# Unique values present in column Rating"
   ]
  },
  {
   "cell_type": "markdown",
   "id": "3c6ac9df",
   "metadata": {
    "papermill": {
     "duration": 0.013062,
     "end_time": "2023-09-23T12:54:00.668724",
     "exception": false,
     "start_time": "2023-09-23T12:54:00.655662",
     "status": "completed"
    },
    "tags": []
   },
   "source": [
    "**the unique values present in current verson column**"
   ]
  },
  {
   "cell_type": "code",
   "execution_count": 9,
   "id": "cdc25b76",
   "metadata": {
    "execution": {
     "iopub.execute_input": "2023-09-23T12:54:00.696370Z",
     "iopub.status.busy": "2023-09-23T12:54:00.695967Z",
     "iopub.status.idle": "2023-09-23T12:54:00.704007Z",
     "shell.execute_reply": "2023-09-23T12:54:00.703212Z"
    },
    "papermill": {
     "duration": 0.024342,
     "end_time": "2023-09-23T12:54:00.706106",
     "exception": false,
     "start_time": "2023-09-23T12:54:00.681764",
     "status": "completed"
    },
    "tags": []
   },
   "outputs": [
    {
     "data": {
      "text/plain": [
       "array(['1.0.0', '2.0.0', '1.2.4', ..., '1.0.612928', '0.3.4', '2.0.148.0'],\n",
       "      dtype=object)"
      ]
     },
     "execution_count": 9,
     "metadata": {},
     "output_type": "execute_result"
    }
   ],
   "source": [
    "df['Current Ver'].unique()\n",
    "# Unique values present in column Current Ver"
   ]
  },
  {
   "cell_type": "markdown",
   "id": "abb82c0e",
   "metadata": {
    "papermill": {
     "duration": 0.013197,
     "end_time": "2023-09-23T12:54:00.732860",
     "exception": false,
     "start_time": "2023-09-23T12:54:00.719663",
     "status": "completed"
    },
    "tags": []
   },
   "source": []
  },
  {
   "cell_type": "markdown",
   "id": "11aa25de",
   "metadata": {
    "papermill": {
     "duration": 0.013011,
     "end_time": "2023-09-23T12:54:00.759982",
     "exception": false,
     "start_time": "2023-09-23T12:54:00.746971",
     "status": "completed"
    },
    "tags": []
   },
   "source": [
    "**Finding the most repeated values means mode in columns- rating, type, current version, content rating and android version to replace it with mode**"
   ]
  },
  {
   "cell_type": "code",
   "execution_count": 10,
   "id": "01753ef8",
   "metadata": {
    "execution": {
     "iopub.execute_input": "2023-09-23T12:54:00.788956Z",
     "iopub.status.busy": "2023-09-23T12:54:00.788544Z",
     "iopub.status.idle": "2023-09-23T12:54:00.802859Z",
     "shell.execute_reply": "2023-09-23T12:54:00.801970Z"
    },
    "papermill": {
     "duration": 0.031098,
     "end_time": "2023-09-23T12:54:00.805008",
     "exception": false,
     "start_time": "2023-09-23T12:54:00.773910",
     "status": "completed"
    },
    "tags": []
   },
   "outputs": [],
   "source": [
    "rating_mode=df.Rating.mode()[0]\n",
    "type_mode=df.Type.mode()[0]\n",
    "currver_mode=df['Current Ver'].mode()[0]\n",
    "cr_mode= df['Content Rating'].mode()[0]\n",
    "ver_mode= df['Android Ver'].mode()[0]"
   ]
  },
  {
   "cell_type": "markdown",
   "id": "0fa7b7dc",
   "metadata": {
    "papermill": {
     "duration": 0.012819,
     "end_time": "2023-09-23T12:54:00.831461",
     "exception": false,
     "start_time": "2023-09-23T12:54:00.818642",
     "status": "completed"
    },
    "tags": []
   },
   "source": [
    "**now,replacing the null values with mode. here,inplace = True means make changes in the orginal data**"
   ]
  },
  {
   "cell_type": "code",
   "execution_count": 11,
   "id": "bb472bb3",
   "metadata": {
    "execution": {
     "iopub.execute_input": "2023-09-23T12:54:00.859578Z",
     "iopub.status.busy": "2023-09-23T12:54:00.859160Z",
     "iopub.status.idle": "2023-09-23T12:54:00.874465Z",
     "shell.execute_reply": "2023-09-23T12:54:00.873269Z"
    },
    "papermill": {
     "duration": 0.032289,
     "end_time": "2023-09-23T12:54:00.877067",
     "exception": false,
     "start_time": "2023-09-23T12:54:00.844778",
     "status": "completed"
    },
    "tags": []
   },
   "outputs": [],
   "source": [
    "df['Rating'].fillna(rating_mode, inplace= True)\n",
    "df['Type'].fillna(type_mode, inplace= True)\n",
    "df['Current Ver'].fillna(currver_mode, inplace= True)\n",
    "df['Content Rating'].fillna(cr_mode, inplace= True)\n",
    "df['Android Ver'].fillna( ver_mode, inplace= True)"
   ]
  },
  {
   "cell_type": "markdown",
   "id": "bf9a2323",
   "metadata": {
    "papermill": {
     "duration": 0.014185,
     "end_time": "2023-09-23T12:54:00.966972",
     "exception": false,
     "start_time": "2023-09-23T12:54:00.952787",
     "status": "completed"
    },
    "tags": []
   },
   "source": [
    "**Checking sum of null values**"
   ]
  },
  {
   "cell_type": "code",
   "execution_count": 12,
   "id": "92291e87",
   "metadata": {
    "execution": {
     "iopub.execute_input": "2023-09-23T12:54:00.995995Z",
     "iopub.status.busy": "2023-09-23T12:54:00.995564Z",
     "iopub.status.idle": "2023-09-23T12:54:01.017281Z",
     "shell.execute_reply": "2023-09-23T12:54:01.016363Z"
    },
    "papermill": {
     "duration": 0.039081,
     "end_time": "2023-09-23T12:54:01.019552",
     "exception": false,
     "start_time": "2023-09-23T12:54:00.980471",
     "status": "completed"
    },
    "tags": []
   },
   "outputs": [
    {
     "data": {
      "text/plain": [
       "App               0\n",
       "Category          0\n",
       "Rating            0\n",
       "Reviews           0\n",
       "Size              0\n",
       "Installs          0\n",
       "Type              0\n",
       "Price             0\n",
       "Content Rating    0\n",
       "Genres            0\n",
       "Last Updated      0\n",
       "Current Ver       0\n",
       "Android Ver       0\n",
       "dtype: int64"
      ]
     },
     "execution_count": 12,
     "metadata": {},
     "output_type": "execute_result"
    }
   ],
   "source": [
    "df.isna().sum()\n",
    "# Null values are changed to relevant values"
   ]
  },
  {
   "cell_type": "markdown",
   "id": "58da0d14",
   "metadata": {
    "papermill": {
     "duration": 0.013185,
     "end_time": "2023-09-23T12:54:01.046202",
     "exception": false,
     "start_time": "2023-09-23T12:54:01.033017",
     "status": "completed"
    },
    "tags": []
   },
   "source": [
    "**Top five records of data set**"
   ]
  },
  {
   "cell_type": "code",
   "execution_count": 13,
   "id": "90eb3fac",
   "metadata": {
    "execution": {
     "iopub.execute_input": "2023-09-23T12:54:01.075838Z",
     "iopub.status.busy": "2023-09-23T12:54:01.075169Z",
     "iopub.status.idle": "2023-09-23T12:54:01.093251Z",
     "shell.execute_reply": "2023-09-23T12:54:01.092153Z"
    },
    "papermill": {
     "duration": 0.035582,
     "end_time": "2023-09-23T12:54:01.095575",
     "exception": false,
     "start_time": "2023-09-23T12:54:01.059993",
     "status": "completed"
    },
    "tags": []
   },
   "outputs": [
    {
     "data": {
      "text/html": [
       "<div>\n",
       "<style scoped>\n",
       "    .dataframe tbody tr th:only-of-type {\n",
       "        vertical-align: middle;\n",
       "    }\n",
       "\n",
       "    .dataframe tbody tr th {\n",
       "        vertical-align: top;\n",
       "    }\n",
       "\n",
       "    .dataframe thead th {\n",
       "        text-align: right;\n",
       "    }\n",
       "</style>\n",
       "<table border=\"1\" class=\"dataframe\">\n",
       "  <thead>\n",
       "    <tr style=\"text-align: right;\">\n",
       "      <th></th>\n",
       "      <th>App</th>\n",
       "      <th>Category</th>\n",
       "      <th>Rating</th>\n",
       "      <th>Reviews</th>\n",
       "      <th>Size</th>\n",
       "      <th>Installs</th>\n",
       "      <th>Type</th>\n",
       "      <th>Price</th>\n",
       "      <th>Content Rating</th>\n",
       "      <th>Genres</th>\n",
       "      <th>Last Updated</th>\n",
       "      <th>Current Ver</th>\n",
       "      <th>Android Ver</th>\n",
       "    </tr>\n",
       "  </thead>\n",
       "  <tbody>\n",
       "    <tr>\n",
       "      <th>0</th>\n",
       "      <td>Photo Editor &amp; Candy Camera &amp; Grid &amp; ScrapBook</td>\n",
       "      <td>ART_AND_DESIGN</td>\n",
       "      <td>4.1</td>\n",
       "      <td>159</td>\n",
       "      <td>19M</td>\n",
       "      <td>10,000+</td>\n",
       "      <td>Free</td>\n",
       "      <td>0</td>\n",
       "      <td>Everyone</td>\n",
       "      <td>Art &amp; Design</td>\n",
       "      <td>January 7, 2018</td>\n",
       "      <td>1.0.0</td>\n",
       "      <td>4.0.3 and up</td>\n",
       "    </tr>\n",
       "    <tr>\n",
       "      <th>1</th>\n",
       "      <td>Coloring book moana</td>\n",
       "      <td>ART_AND_DESIGN</td>\n",
       "      <td>3.9</td>\n",
       "      <td>967</td>\n",
       "      <td>14M</td>\n",
       "      <td>500,000+</td>\n",
       "      <td>Free</td>\n",
       "      <td>0</td>\n",
       "      <td>Everyone</td>\n",
       "      <td>Art &amp; Design;Pretend Play</td>\n",
       "      <td>January 15, 2018</td>\n",
       "      <td>2.0.0</td>\n",
       "      <td>4.0.3 and up</td>\n",
       "    </tr>\n",
       "    <tr>\n",
       "      <th>2</th>\n",
       "      <td>U Launcher Lite – FREE Live Cool Themes, Hide ...</td>\n",
       "      <td>ART_AND_DESIGN</td>\n",
       "      <td>4.7</td>\n",
       "      <td>87510</td>\n",
       "      <td>8.7M</td>\n",
       "      <td>5,000,000+</td>\n",
       "      <td>Free</td>\n",
       "      <td>0</td>\n",
       "      <td>Everyone</td>\n",
       "      <td>Art &amp; Design</td>\n",
       "      <td>August 1, 2018</td>\n",
       "      <td>1.2.4</td>\n",
       "      <td>4.0.3 and up</td>\n",
       "    </tr>\n",
       "    <tr>\n",
       "      <th>3</th>\n",
       "      <td>Sketch - Draw &amp; Paint</td>\n",
       "      <td>ART_AND_DESIGN</td>\n",
       "      <td>4.5</td>\n",
       "      <td>215644</td>\n",
       "      <td>25M</td>\n",
       "      <td>50,000,000+</td>\n",
       "      <td>Free</td>\n",
       "      <td>0</td>\n",
       "      <td>Teen</td>\n",
       "      <td>Art &amp; Design</td>\n",
       "      <td>June 8, 2018</td>\n",
       "      <td>Varies with device</td>\n",
       "      <td>4.2 and up</td>\n",
       "    </tr>\n",
       "    <tr>\n",
       "      <th>4</th>\n",
       "      <td>Pixel Draw - Number Art Coloring Book</td>\n",
       "      <td>ART_AND_DESIGN</td>\n",
       "      <td>4.3</td>\n",
       "      <td>967</td>\n",
       "      <td>2.8M</td>\n",
       "      <td>100,000+</td>\n",
       "      <td>Free</td>\n",
       "      <td>0</td>\n",
       "      <td>Everyone</td>\n",
       "      <td>Art &amp; Design;Creativity</td>\n",
       "      <td>June 20, 2018</td>\n",
       "      <td>1.1</td>\n",
       "      <td>4.4 and up</td>\n",
       "    </tr>\n",
       "  </tbody>\n",
       "</table>\n",
       "</div>"
      ],
      "text/plain": [
       "                                                 App        Category  Rating  \\\n",
       "0     Photo Editor & Candy Camera & Grid & ScrapBook  ART_AND_DESIGN     4.1   \n",
       "1                                Coloring book moana  ART_AND_DESIGN     3.9   \n",
       "2  U Launcher Lite – FREE Live Cool Themes, Hide ...  ART_AND_DESIGN     4.7   \n",
       "3                              Sketch - Draw & Paint  ART_AND_DESIGN     4.5   \n",
       "4              Pixel Draw - Number Art Coloring Book  ART_AND_DESIGN     4.3   \n",
       "\n",
       "  Reviews  Size     Installs  Type Price Content Rating  \\\n",
       "0     159   19M      10,000+  Free     0       Everyone   \n",
       "1     967   14M     500,000+  Free     0       Everyone   \n",
       "2   87510  8.7M   5,000,000+  Free     0       Everyone   \n",
       "3  215644   25M  50,000,000+  Free     0           Teen   \n",
       "4     967  2.8M     100,000+  Free     0       Everyone   \n",
       "\n",
       "                      Genres      Last Updated         Current Ver  \\\n",
       "0               Art & Design   January 7, 2018               1.0.0   \n",
       "1  Art & Design;Pretend Play  January 15, 2018               2.0.0   \n",
       "2               Art & Design    August 1, 2018               1.2.4   \n",
       "3               Art & Design      June 8, 2018  Varies with device   \n",
       "4    Art & Design;Creativity     June 20, 2018                 1.1   \n",
       "\n",
       "    Android Ver  \n",
       "0  4.0.3 and up  \n",
       "1  4.0.3 and up  \n",
       "2  4.0.3 and up  \n",
       "3    4.2 and up  \n",
       "4    4.4 and up  "
      ]
     },
     "execution_count": 13,
     "metadata": {},
     "output_type": "execute_result"
    }
   ],
   "source": [
    "df.head()  # head function returns top 5 records by default"
   ]
  },
  {
   "cell_type": "markdown",
   "id": "4094d3a8",
   "metadata": {
    "papermill": {
     "duration": 0.01355,
     "end_time": "2023-09-23T12:54:01.123001",
     "exception": false,
     "start_time": "2023-09-23T12:54:01.109451",
     "status": "completed"
    },
    "tags": []
   },
   "source": [
    "**Price column contain dollor $ symbol, removing the symbol in the data**"
   ]
  },
  {
   "cell_type": "code",
   "execution_count": 14,
   "id": "a09b4421",
   "metadata": {
    "execution": {
     "iopub.execute_input": "2023-09-23T12:54:01.152333Z",
     "iopub.status.busy": "2023-09-23T12:54:01.151925Z",
     "iopub.status.idle": "2023-09-23T12:54:01.160249Z",
     "shell.execute_reply": "2023-09-23T12:54:01.159283Z"
    },
    "papermill": {
     "duration": 0.02551,
     "end_time": "2023-09-23T12:54:01.162297",
     "exception": false,
     "start_time": "2023-09-23T12:54:01.136787",
     "status": "completed"
    },
    "tags": []
   },
   "outputs": [
    {
     "data": {
      "text/plain": [
       "array(['0', '$4.99', '$3.99', '$6.99', '$1.49', '$2.99', '$7.99', '$5.99',\n",
       "       '$3.49', '$1.99', '$9.99', '$7.49', '$0.99', '$9.00', '$5.49',\n",
       "       '$10.00', '$24.99', '$11.99', '$79.99', '$16.99', '$14.99',\n",
       "       '$1.00', '$29.99', '$12.99', '$2.49', '$10.99', '$1.50', '$19.99',\n",
       "       '$15.99', '$33.99', '$74.99', '$39.99', '$3.95', '$4.49', '$1.70',\n",
       "       '$8.99', '$2.00', '$3.88', '$25.99', '$399.99', '$17.99',\n",
       "       '$400.00', '$3.02', '$1.76', '$4.84', '$4.77', '$1.61', '$2.50',\n",
       "       '$1.59', '$6.49', '$1.29', '$5.00', '$13.99', '$299.99', '$379.99',\n",
       "       '$37.99', '$18.99', '$389.99', '$19.90', '$8.49', '$1.75',\n",
       "       '$14.00', '$4.85', '$46.99', '$109.99', '$154.99', '$3.08',\n",
       "       '$2.59', '$4.80', '$1.96', '$19.40', '$3.90', '$4.59', '$15.46',\n",
       "       '$3.04', '$4.29', '$2.60', '$3.28', '$4.60', '$28.99', '$2.95',\n",
       "       '$2.90', '$1.97', '$200.00', '$89.99', '$2.56', '$30.99', '$3.61',\n",
       "       '$394.99', '$1.26', 'Everyone', '$1.20', '$1.04'], dtype=object)"
      ]
     },
     "execution_count": 14,
     "metadata": {},
     "output_type": "execute_result"
    }
   ],
   "source": [
    "df.Price.unique()\n",
    "# Price data has a dollar sign"
   ]
  },
  {
   "cell_type": "markdown",
   "id": "b69c51cb",
   "metadata": {
    "papermill": {
     "duration": 0.013857,
     "end_time": "2023-09-23T12:54:01.190370",
     "exception": false,
     "start_time": "2023-09-23T12:54:01.176513",
     "status": "completed"
    },
    "tags": []
   },
   "source": [
    "**using lambda fuction removing the $ symbol**"
   ]
  },
  {
   "cell_type": "code",
   "execution_count": 15,
   "id": "249bc9ae",
   "metadata": {
    "execution": {
     "iopub.execute_input": "2023-09-23T12:54:01.220488Z",
     "iopub.status.busy": "2023-09-23T12:54:01.219780Z",
     "iopub.status.idle": "2023-09-23T12:54:01.228997Z",
     "shell.execute_reply": "2023-09-23T12:54:01.228138Z"
    },
    "papermill": {
     "duration": 0.027011,
     "end_time": "2023-09-23T12:54:01.231315",
     "exception": false,
     "start_time": "2023-09-23T12:54:01.204304",
     "status": "completed"
    },
    "tags": []
   },
   "outputs": [],
   "source": [
    "df.Price = df.Price.apply(lambda x:x.strip('$'))"
   ]
  },
  {
   "cell_type": "code",
   "execution_count": 16,
   "id": "44e4189f",
   "metadata": {
    "execution": {
     "iopub.execute_input": "2023-09-23T12:54:01.261756Z",
     "iopub.status.busy": "2023-09-23T12:54:01.261278Z",
     "iopub.status.idle": "2023-09-23T12:54:01.270189Z",
     "shell.execute_reply": "2023-09-23T12:54:01.269073Z"
    },
    "papermill": {
     "duration": 0.02695,
     "end_time": "2023-09-23T12:54:01.272475",
     "exception": false,
     "start_time": "2023-09-23T12:54:01.245525",
     "status": "completed"
    },
    "tags": []
   },
   "outputs": [
    {
     "data": {
      "text/plain": [
       "0"
      ]
     },
     "execution_count": 16,
     "metadata": {},
     "output_type": "execute_result"
    }
   ],
   "source": [
    "df.Price.isnull().sum()\n",
    "# there is no null values in price column"
   ]
  },
  {
   "cell_type": "markdown",
   "id": "cd36856b",
   "metadata": {
    "papermill": {
     "duration": 0.013927,
     "end_time": "2023-09-23T12:54:01.300535",
     "exception": false,
     "start_time": "2023-09-23T12:54:01.286608",
     "status": "completed"
    },
    "tags": []
   },
   "source": [
    "**droping the whole record containing null values**"
   ]
  },
  {
   "cell_type": "code",
   "execution_count": 17,
   "id": "aae3c101",
   "metadata": {
    "execution": {
     "iopub.execute_input": "2023-09-23T12:54:01.330810Z",
     "iopub.status.busy": "2023-09-23T12:54:01.330394Z",
     "iopub.status.idle": "2023-09-23T12:54:01.355215Z",
     "shell.execute_reply": "2023-09-23T12:54:01.354084Z"
    },
    "papermill": {
     "duration": 0.043162,
     "end_time": "2023-09-23T12:54:01.357811",
     "exception": false,
     "start_time": "2023-09-23T12:54:01.314649",
     "status": "completed"
    },
    "tags": []
   },
   "outputs": [],
   "source": [
    "df.dropna(how='all', inplace= True)\n",
    "# it drops the whole record containing null values."
   ]
  },
  {
   "cell_type": "markdown",
   "id": "0a1b144b",
   "metadata": {
    "papermill": {
     "duration": 0.01393,
     "end_time": "2023-09-23T12:54:01.386219",
     "exception": false,
     "start_time": "2023-09-23T12:54:01.372289",
     "status": "completed"
    },
    "tags": []
   },
   "source": [
    "**changing the semicoln to spaces  ( \"_\" ) to (\" \" ) in category data**"
   ]
  },
  {
   "cell_type": "code",
   "execution_count": 18,
   "id": "590fad51",
   "metadata": {
    "execution": {
     "iopub.execute_input": "2023-09-23T12:54:01.416975Z",
     "iopub.status.busy": "2023-09-23T12:54:01.416552Z",
     "iopub.status.idle": "2023-09-23T12:54:01.424959Z",
     "shell.execute_reply": "2023-09-23T12:54:01.423950Z"
    },
    "papermill": {
     "duration": 0.026709,
     "end_time": "2023-09-23T12:54:01.427074",
     "exception": false,
     "start_time": "2023-09-23T12:54:01.400365",
     "status": "completed"
    },
    "tags": []
   },
   "outputs": [
    {
     "data": {
      "text/plain": [
       "array(['ART_AND_DESIGN', 'AUTO_AND_VEHICLES', 'BEAUTY',\n",
       "       'BOOKS_AND_REFERENCE', 'BUSINESS', 'COMICS', 'COMMUNICATION',\n",
       "       'DATING', 'EDUCATION', 'ENTERTAINMENT', 'EVENTS', 'FINANCE',\n",
       "       'FOOD_AND_DRINK', 'HEALTH_AND_FITNESS', 'HOUSE_AND_HOME',\n",
       "       'LIBRARIES_AND_DEMO', 'LIFESTYLE', 'GAME', 'FAMILY', 'MEDICAL',\n",
       "       'SOCIAL', 'SHOPPING', 'PHOTOGRAPHY', 'SPORTS', 'TRAVEL_AND_LOCAL',\n",
       "       'TOOLS', 'PERSONALIZATION', 'PRODUCTIVITY', 'PARENTING', 'WEATHER',\n",
       "       'VIDEO_PLAYERS', 'NEWS_AND_MAGAZINES', 'MAPS_AND_NAVIGATION',\n",
       "       '1.9'], dtype=object)"
      ]
     },
     "execution_count": 18,
     "metadata": {},
     "output_type": "execute_result"
    }
   ],
   "source": [
    "df.Category.unique()\n",
    "# replacing semi colon with spaces in category data"
   ]
  },
  {
   "cell_type": "code",
   "execution_count": 19,
   "id": "ec48dd4b",
   "metadata": {
    "execution": {
     "iopub.execute_input": "2023-09-23T12:54:01.457871Z",
     "iopub.status.busy": "2023-09-23T12:54:01.457445Z",
     "iopub.status.idle": "2023-09-23T12:54:01.480011Z",
     "shell.execute_reply": "2023-09-23T12:54:01.479214Z"
    },
    "papermill": {
     "duration": 0.040328,
     "end_time": "2023-09-23T12:54:01.482156",
     "exception": false,
     "start_time": "2023-09-23T12:54:01.441828",
     "status": "completed"
    },
    "tags": []
   },
   "outputs": [
    {
     "data": {
      "text/plain": [
       "0             Art And Design\n",
       "1             Art And Design\n",
       "2             Art And Design\n",
       "3             Art And Design\n",
       "4             Art And Design\n",
       "                ...         \n",
       "10836                 Family\n",
       "10837                 Family\n",
       "10838                Medical\n",
       "10839    Books And Reference\n",
       "10840              Lifestyle\n",
       "Name: Category, Length: 10841, dtype: object"
      ]
     },
     "execution_count": 19,
     "metadata": {},
     "output_type": "execute_result"
    }
   ],
   "source": [
    "df['Category']=df['Category'].str.replace('_', ' ').str.title()\n",
    "df['Category']"
   ]
  },
  {
   "cell_type": "markdown",
   "id": "4525b3a9",
   "metadata": {
    "papermill": {
     "duration": 0.014512,
     "end_time": "2023-09-23T12:54:01.511663",
     "exception": false,
     "start_time": "2023-09-23T12:54:01.497151",
     "status": "completed"
    },
    "tags": []
   },
   "source": [
    "**Creating Visualization using Matplotlib. Matplotlib is a comprehensive library for creating static, animated, and interactive visualizations in Python.**"
   ]
  },
  {
   "cell_type": "code",
   "execution_count": 20,
   "id": "ce02577a",
   "metadata": {
    "execution": {
     "iopub.execute_input": "2023-09-23T12:54:01.543060Z",
     "iopub.status.busy": "2023-09-23T12:54:01.541899Z",
     "iopub.status.idle": "2023-09-23T12:54:01.737166Z",
     "shell.execute_reply": "2023-09-23T12:54:01.735996Z"
    },
    "papermill": {
     "duration": 0.215083,
     "end_time": "2023-09-23T12:54:01.741129",
     "exception": false,
     "start_time": "2023-09-23T12:54:01.526046",
     "status": "completed"
    },
    "tags": []
   },
   "outputs": [
    {
     "data": {
      "image/png": "[encoded data removed]",
      "text/plain": [
       "<Figure size 600x400 with 1 Axes>"
      ]
     },
     "metadata": {},
     "output_type": "display_data"
    }
   ],
   "source": [
    "# Pie Chart\n",
    "plt.style.use('ggplot')\n",
    "\n",
    "plt.figure(figsize=(6,4))\n",
    "plt.title('Percentage of free and paid apps')\n",
    "\n",
    "labels=['Free', 'Paid','0']\n",
    "explode= (.3,.3,.3)\n",
    "\n",
    "plt.pie(df.Type.value_counts(), labels=labels ,autopct= '%0.2f%%',explode=explode)\n",
    "plt.show()"
   ]
  },
  {
   "cell_type": "code",
   "execution_count": 21,
   "id": "acddff56",
   "metadata": {
    "execution": {
     "iopub.execute_input": "2023-09-23T12:54:01.798228Z",
     "iopub.status.busy": "2023-09-23T12:54:01.797843Z",
     "iopub.status.idle": "2023-09-23T12:54:02.056093Z",
     "shell.execute_reply": "2023-09-23T12:54:02.054973Z"
    },
    "papermill": {
     "duration": 0.28448,
     "end_time": "2023-09-23T12:54:02.058871",
     "exception": false,
     "start_time": "2023-09-23T12:54:01.774391",
     "status": "completed"
    },
    "tags": []
   },
   "outputs": [
    {
     "data": {
      "image/png": "[encoded data removed]",
      "text/plain": [
       "<Figure size 500x400 with 1 Axes>"
      ]
     },
     "metadata": {},
     "output_type": "display_data"
    }
   ],
   "source": [
    "# Bar Chart\n",
    "plt.figure(figsize=(5,4))\n",
    "plt.title(\"content rating of the Apps\")\n",
    "\n",
    "val=df['Content Rating'].value_counts()\n",
    "plt.barh(val.index, val.values)\n",
    "\n",
    "plt.show()"
   ]
  },
  {
   "cell_type": "code",
   "execution_count": 22,
   "id": "f1d3c393",
   "metadata": {
    "execution": {
     "iopub.execute_input": "2023-09-23T12:54:02.098407Z",
     "iopub.status.busy": "2023-09-23T12:54:02.097444Z",
     "iopub.status.idle": "2023-09-23T12:54:02.364683Z",
     "shell.execute_reply": "2023-09-23T12:54:02.363672Z"
    },
    "papermill": {
     "duration": 0.290862,
     "end_time": "2023-09-23T12:54:02.369193",
     "exception": false,
     "start_time": "2023-09-23T12:54:02.078331",
     "status": "completed"
    },
    "tags": []
   },
   "outputs": [
    {
     "data": {
      "image/png": "[encoded data removed]",
      "text/plain": [
       "<Figure size 500x400 with 1 Axes>"
      ]
     },
     "metadata": {},
     "output_type": "display_data"
    }
   ],
   "source": [
    "# Bar Chart\n",
    "top_data=df.head()\n",
    "x=top_data.App\n",
    "y=top_data.Installs\n",
    "\n",
    "plt.figure(figsize=(5,4))\n",
    "plt.title('Top 5 Apps with Installations')\n",
    "\n",
    "plt.barh(x,y)\n",
    "plt.show()"
   ]
  },
  {
   "cell_type": "code",
   "execution_count": 23,
   "id": "47f28747",
   "metadata": {
    "execution": {
     "iopub.execute_input": "2023-09-23T12:54:02.406398Z",
     "iopub.status.busy": "2023-09-23T12:54:02.405202Z",
     "iopub.status.idle": "2023-09-23T12:54:02.743537Z",
     "shell.execute_reply": "2023-09-23T12:54:02.742329Z"
    },
    "papermill": {
     "duration": 0.36077,
     "end_time": "2023-09-23T12:54:02.746911",
     "exception": false,
     "start_time": "2023-09-23T12:54:02.386141",
     "status": "completed"
    },
    "tags": []
   },
   "outputs": [
    {
     "data": {
      "image/png": "[encoded data removed]",
      "text/plain": [
       "<Figure size 600x500 with 1 Axes>"
      ]
     },
     "metadata": {},
     "output_type": "display_data"
    }
   ],
   "source": [
    "plt.figure(figsize=(6,5))\n",
    "plt.title('App rating count')\n",
    "\n",
    "bins=[1,2,3,4,5,6]\n",
    "plt.hist(df.Rating, bins)\n",
    "\n",
    "plt.ylabel('count')\n",
    "plt.show()"
   ]
  }
 ],
 "metadata": {
  "kernelspec": {
   "display_name": "Python 3",
   "language": "python",
   "name": "python3"
  },
  "language_info": {
   "codemirror_mode": {
    "name": "ipython",
    "version": 3
   },
   "file_extension": ".py",
   "mimetype": "text/x-python",
   "name": "python",
   "nbconvert_exporter": "python",
   "pygments_lexer": "ipython3",
   "version": "3.10.12"
  },
  "papermill": {
   "default_parameters": {},
   "duration": 7.300069,
   "end_time": "2023-09-23T12:54:03.290769",
   "environment_variables": {},
   "exception": null,
   "input_path": "__notebook__.ipynb",
   "output_path": "__notebook__.ipynb",
   "parameters": {},
   "start_time": "2023-09-23T12:53:55.990700",
   "version": "2.4.0"
  }
 },
 "nbformat": 4,
 "nbformat_minor": 5
}
